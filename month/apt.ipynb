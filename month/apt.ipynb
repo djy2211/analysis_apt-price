{
 "cells": [
  {
   "cell_type": "code",
   "execution_count": 1,
   "metadata": {},
   "outputs": [],
   "source": [
    "import pandas as pd\n",
    "import plotly.express as px\n",
    "import seaborn as sns\n",
    "import numpy as np"
   ]
  },
  {
   "cell_type": "code",
   "execution_count": 2,
   "metadata": {},
   "outputs": [
    {
     "name": "stderr",
     "output_type": "stream",
     "text": [
      "C:\\Users\\MSI\\AppData\\Local\\Packages\\PythonSoftwareFoundation.Python.3.11_qbz5n2kfra8p0\\LocalCache\\local-packages\\Python311\\site-packages\\openpyxl\\styles\\stylesheet.py:226: UserWarning: Workbook contains no default style, apply openpyxl's default\n",
      "  warn(\"Workbook contains no default style, apply openpyxl's default\")\n"
     ]
    }
   ],
   "source": [
    "# 서울시 2023년 11월 아파트 실거래가 데이터\n",
    "df = pd.read_excel(\"data.xlsx\")"
   ]
  },
  {
   "cell_type": "code",
   "execution_count": 3,
   "metadata": {},
   "outputs": [
    {
     "data": {
      "text/html": [
       "<div>\n",
       "<style scoped>\n",
       "    .dataframe tbody tr th:only-of-type {\n",
       "        vertical-align: middle;\n",
       "    }\n",
       "\n",
       "    .dataframe tbody tr th {\n",
       "        vertical-align: top;\n",
       "    }\n",
       "\n",
       "    .dataframe thead th {\n",
       "        text-align: right;\n",
       "    }\n",
       "</style>\n",
       "<table border=\"1\" class=\"dataframe\">\n",
       "  <thead>\n",
       "    <tr style=\"text-align: right;\">\n",
       "      <th></th>\n",
       "      <th>□ 본 서비스에서 제공하는 정보는 법적인 효력이 없으므로 참고용으로만 활용하시기 바랍니다.</th>\n",
       "      <th>Unnamed: 1</th>\n",
       "      <th>Unnamed: 2</th>\n",
       "      <th>Unnamed: 3</th>\n",
       "      <th>Unnamed: 4</th>\n",
       "      <th>Unnamed: 5</th>\n",
       "      <th>Unnamed: 6</th>\n",
       "      <th>Unnamed: 7</th>\n",
       "      <th>Unnamed: 8</th>\n",
       "      <th>Unnamed: 9</th>\n",
       "      <th>Unnamed: 10</th>\n",
       "      <th>Unnamed: 11</th>\n",
       "      <th>Unnamed: 12</th>\n",
       "      <th>Unnamed: 13</th>\n",
       "      <th>Unnamed: 14</th>\n",
       "      <th>Unnamed: 15</th>\n",
       "    </tr>\n",
       "  </thead>\n",
       "  <tbody>\n",
       "    <tr>\n",
       "      <th>0</th>\n",
       "      <td>□ 신고정보가 실시간 변경, 해제되어 제공시점에 따라 공개건수 및 내용이 상이할 수...</td>\n",
       "      <td>NaN</td>\n",
       "      <td>NaN</td>\n",
       "      <td>NaN</td>\n",
       "      <td>NaN</td>\n",
       "      <td>NaN</td>\n",
       "      <td>NaN</td>\n",
       "      <td>NaN</td>\n",
       "      <td>NaN</td>\n",
       "      <td>NaN</td>\n",
       "      <td>NaN</td>\n",
       "      <td>NaN</td>\n",
       "      <td>NaN</td>\n",
       "      <td>NaN</td>\n",
       "      <td>NaN</td>\n",
       "      <td>NaN</td>\n",
       "    </tr>\n",
       "    <tr>\n",
       "      <th>1</th>\n",
       "      <td>□ 본 자료는 계약일 기준입니다. (※ 7월 계약, 8월 신고건 → 7월 거래건으로...</td>\n",
       "      <td>NaN</td>\n",
       "      <td>NaN</td>\n",
       "      <td>NaN</td>\n",
       "      <td>NaN</td>\n",
       "      <td>NaN</td>\n",
       "      <td>NaN</td>\n",
       "      <td>NaN</td>\n",
       "      <td>NaN</td>\n",
       "      <td>NaN</td>\n",
       "      <td>NaN</td>\n",
       "      <td>NaN</td>\n",
       "      <td>NaN</td>\n",
       "      <td>NaN</td>\n",
       "      <td>NaN</td>\n",
       "      <td>NaN</td>\n",
       "    </tr>\n",
       "    <tr>\n",
       "      <th>2</th>\n",
       "      <td>□ 통계자료 활용시에는 수치가 왜곡될 수 있으니 참고자료로만 활용하시기  바라며, ...</td>\n",
       "      <td>NaN</td>\n",
       "      <td>NaN</td>\n",
       "      <td>NaN</td>\n",
       "      <td>NaN</td>\n",
       "      <td>NaN</td>\n",
       "      <td>NaN</td>\n",
       "      <td>NaN</td>\n",
       "      <td>NaN</td>\n",
       "      <td>NaN</td>\n",
       "      <td>NaN</td>\n",
       "      <td>NaN</td>\n",
       "      <td>NaN</td>\n",
       "      <td>NaN</td>\n",
       "      <td>NaN</td>\n",
       "      <td>NaN</td>\n",
       "    </tr>\n",
       "    <tr>\n",
       "      <th>3</th>\n",
       "      <td>NaN</td>\n",
       "      <td>NaN</td>\n",
       "      <td>NaN</td>\n",
       "      <td>NaN</td>\n",
       "      <td>NaN</td>\n",
       "      <td>NaN</td>\n",
       "      <td>NaN</td>\n",
       "      <td>NaN</td>\n",
       "      <td>NaN</td>\n",
       "      <td>NaN</td>\n",
       "      <td>NaN</td>\n",
       "      <td>NaN</td>\n",
       "      <td>NaN</td>\n",
       "      <td>NaN</td>\n",
       "      <td>NaN</td>\n",
       "      <td>NaN</td>\n",
       "    </tr>\n",
       "    <tr>\n",
       "      <th>4</th>\n",
       "      <td>* 국토교통부 실거래가 공개시스템의 궁금하신 점이나 문의사항은 주택거래신고 1588...</td>\n",
       "      <td>NaN</td>\n",
       "      <td>NaN</td>\n",
       "      <td>NaN</td>\n",
       "      <td>NaN</td>\n",
       "      <td>NaN</td>\n",
       "      <td>NaN</td>\n",
       "      <td>NaN</td>\n",
       "      <td>NaN</td>\n",
       "      <td>NaN</td>\n",
       "      <td>NaN</td>\n",
       "      <td>NaN</td>\n",
       "      <td>NaN</td>\n",
       "      <td>NaN</td>\n",
       "      <td>NaN</td>\n",
       "      <td>NaN</td>\n",
       "    </tr>\n",
       "    <tr>\n",
       "      <th>5</th>\n",
       "      <td>□ 검색조건</td>\n",
       "      <td>NaN</td>\n",
       "      <td>NaN</td>\n",
       "      <td>NaN</td>\n",
       "      <td>NaN</td>\n",
       "      <td>NaN</td>\n",
       "      <td>NaN</td>\n",
       "      <td>NaN</td>\n",
       "      <td>NaN</td>\n",
       "      <td>NaN</td>\n",
       "      <td>NaN</td>\n",
       "      <td>NaN</td>\n",
       "      <td>NaN</td>\n",
       "      <td>NaN</td>\n",
       "      <td>NaN</td>\n",
       "      <td>NaN</td>\n",
       "    </tr>\n",
       "    <tr>\n",
       "      <th>6</th>\n",
       "      <td>계약일자 : 20231101 ~ 20231130</td>\n",
       "      <td>NaN</td>\n",
       "      <td>NaN</td>\n",
       "      <td>NaN</td>\n",
       "      <td>NaN</td>\n",
       "      <td>NaN</td>\n",
       "      <td>NaN</td>\n",
       "      <td>NaN</td>\n",
       "      <td>NaN</td>\n",
       "      <td>NaN</td>\n",
       "      <td>NaN</td>\n",
       "      <td>NaN</td>\n",
       "      <td>NaN</td>\n",
       "      <td>NaN</td>\n",
       "      <td>NaN</td>\n",
       "      <td>NaN</td>\n",
       "    </tr>\n",
       "    <tr>\n",
       "      <th>7</th>\n",
       "      <td>실거래 구분 : 아파트(매매)</td>\n",
       "      <td>NaN</td>\n",
       "      <td>NaN</td>\n",
       "      <td>NaN</td>\n",
       "      <td>NaN</td>\n",
       "      <td>NaN</td>\n",
       "      <td>NaN</td>\n",
       "      <td>NaN</td>\n",
       "      <td>NaN</td>\n",
       "      <td>NaN</td>\n",
       "      <td>NaN</td>\n",
       "      <td>NaN</td>\n",
       "      <td>NaN</td>\n",
       "      <td>NaN</td>\n",
       "      <td>NaN</td>\n",
       "      <td>NaN</td>\n",
       "    </tr>\n",
       "    <tr>\n",
       "      <th>8</th>\n",
       "      <td>주소구분 : 지번주소</td>\n",
       "      <td>NaN</td>\n",
       "      <td>NaN</td>\n",
       "      <td>NaN</td>\n",
       "      <td>NaN</td>\n",
       "      <td>NaN</td>\n",
       "      <td>NaN</td>\n",
       "      <td>NaN</td>\n",
       "      <td>NaN</td>\n",
       "      <td>NaN</td>\n",
       "      <td>NaN</td>\n",
       "      <td>NaN</td>\n",
       "      <td>NaN</td>\n",
       "      <td>NaN</td>\n",
       "      <td>NaN</td>\n",
       "      <td>NaN</td>\n",
       "    </tr>\n",
       "    <tr>\n",
       "      <th>9</th>\n",
       "      <td>시도 : 서울특별시</td>\n",
       "      <td>NaN</td>\n",
       "      <td>NaN</td>\n",
       "      <td>NaN</td>\n",
       "      <td>NaN</td>\n",
       "      <td>NaN</td>\n",
       "      <td>NaN</td>\n",
       "      <td>NaN</td>\n",
       "      <td>NaN</td>\n",
       "      <td>NaN</td>\n",
       "      <td>NaN</td>\n",
       "      <td>NaN</td>\n",
       "      <td>NaN</td>\n",
       "      <td>NaN</td>\n",
       "      <td>NaN</td>\n",
       "      <td>NaN</td>\n",
       "    </tr>\n",
       "    <tr>\n",
       "      <th>10</th>\n",
       "      <td>시군구 : 전체</td>\n",
       "      <td>NaN</td>\n",
       "      <td>NaN</td>\n",
       "      <td>NaN</td>\n",
       "      <td>NaN</td>\n",
       "      <td>NaN</td>\n",
       "      <td>NaN</td>\n",
       "      <td>NaN</td>\n",
       "      <td>NaN</td>\n",
       "      <td>NaN</td>\n",
       "      <td>NaN</td>\n",
       "      <td>NaN</td>\n",
       "      <td>NaN</td>\n",
       "      <td>NaN</td>\n",
       "      <td>NaN</td>\n",
       "      <td>NaN</td>\n",
       "    </tr>\n",
       "    <tr>\n",
       "      <th>11</th>\n",
       "      <td>읍면동 : 전체</td>\n",
       "      <td>NaN</td>\n",
       "      <td>NaN</td>\n",
       "      <td>NaN</td>\n",
       "      <td>NaN</td>\n",
       "      <td>NaN</td>\n",
       "      <td>NaN</td>\n",
       "      <td>NaN</td>\n",
       "      <td>NaN</td>\n",
       "      <td>NaN</td>\n",
       "      <td>NaN</td>\n",
       "      <td>NaN</td>\n",
       "      <td>NaN</td>\n",
       "      <td>NaN</td>\n",
       "      <td>NaN</td>\n",
       "      <td>NaN</td>\n",
       "    </tr>\n",
       "    <tr>\n",
       "      <th>12</th>\n",
       "      <td>면적 : 전체</td>\n",
       "      <td>NaN</td>\n",
       "      <td>NaN</td>\n",
       "      <td>NaN</td>\n",
       "      <td>NaN</td>\n",
       "      <td>NaN</td>\n",
       "      <td>NaN</td>\n",
       "      <td>NaN</td>\n",
       "      <td>NaN</td>\n",
       "      <td>NaN</td>\n",
       "      <td>NaN</td>\n",
       "      <td>NaN</td>\n",
       "      <td>NaN</td>\n",
       "      <td>NaN</td>\n",
       "      <td>NaN</td>\n",
       "      <td>NaN</td>\n",
       "    </tr>\n",
       "    <tr>\n",
       "      <th>13</th>\n",
       "      <td>금액선택 : 전체</td>\n",
       "      <td>NaN</td>\n",
       "      <td>NaN</td>\n",
       "      <td>NaN</td>\n",
       "      <td>NaN</td>\n",
       "      <td>NaN</td>\n",
       "      <td>NaN</td>\n",
       "      <td>NaN</td>\n",
       "      <td>NaN</td>\n",
       "      <td>NaN</td>\n",
       "      <td>NaN</td>\n",
       "      <td>NaN</td>\n",
       "      <td>NaN</td>\n",
       "      <td>NaN</td>\n",
       "      <td>NaN</td>\n",
       "      <td>NaN</td>\n",
       "    </tr>\n",
       "    <tr>\n",
       "      <th>14</th>\n",
       "      <td>NaN</td>\n",
       "      <td>NaN</td>\n",
       "      <td>NaN</td>\n",
       "      <td>NaN</td>\n",
       "      <td>NaN</td>\n",
       "      <td>NaN</td>\n",
       "      <td>NaN</td>\n",
       "      <td>NaN</td>\n",
       "      <td>NaN</td>\n",
       "      <td>NaN</td>\n",
       "      <td>NaN</td>\n",
       "      <td>NaN</td>\n",
       "      <td>NaN</td>\n",
       "      <td>NaN</td>\n",
       "      <td>NaN</td>\n",
       "      <td>NaN</td>\n",
       "    </tr>\n",
       "    <tr>\n",
       "      <th>15</th>\n",
       "      <td>시군구</td>\n",
       "      <td>번지</td>\n",
       "      <td>본번</td>\n",
       "      <td>부번</td>\n",
       "      <td>단지명</td>\n",
       "      <td>전용면적(㎡)</td>\n",
       "      <td>계약년월</td>\n",
       "      <td>계약일</td>\n",
       "      <td>거래금액(만원)</td>\n",
       "      <td>층</td>\n",
       "      <td>건축년도</td>\n",
       "      <td>도로명</td>\n",
       "      <td>해제사유발생일</td>\n",
       "      <td>등기일자</td>\n",
       "      <td>거래유형</td>\n",
       "      <td>중개사소재지</td>\n",
       "    </tr>\n",
       "    <tr>\n",
       "      <th>16</th>\n",
       "      <td>서울특별시 강남구 개포동</td>\n",
       "      <td>651-1</td>\n",
       "      <td>0651</td>\n",
       "      <td>0001</td>\n",
       "      <td>개포더샵트리에</td>\n",
       "      <td>108.0923</td>\n",
       "      <td>202311</td>\n",
       "      <td>22</td>\n",
       "      <td>220,000</td>\n",
       "      <td>7</td>\n",
       "      <td>2021</td>\n",
       "      <td>개포로 311</td>\n",
       "      <td>NaN</td>\n",
       "      <td></td>\n",
       "      <td>중개거래</td>\n",
       "      <td>서울 강남구</td>\n",
       "    </tr>\n",
       "    <tr>\n",
       "      <th>17</th>\n",
       "      <td>서울특별시 강남구 개포동</td>\n",
       "      <td>189</td>\n",
       "      <td>0189</td>\n",
       "      <td>0000</td>\n",
       "      <td>개포자이프레지던스</td>\n",
       "      <td>59.98</td>\n",
       "      <td>202311</td>\n",
       "      <td>7</td>\n",
       "      <td>216,000</td>\n",
       "      <td>12</td>\n",
       "      <td>2023</td>\n",
       "      <td>삼성로 14</td>\n",
       "      <td>NaN</td>\n",
       "      <td></td>\n",
       "      <td>중개거래</td>\n",
       "      <td>서울 강남구</td>\n",
       "    </tr>\n",
       "    <tr>\n",
       "      <th>18</th>\n",
       "      <td>서울특별시 강남구 개포동</td>\n",
       "      <td>185</td>\n",
       "      <td>0185</td>\n",
       "      <td>0000</td>\n",
       "      <td>개포주공6단지</td>\n",
       "      <td>83.21</td>\n",
       "      <td>202311</td>\n",
       "      <td>13</td>\n",
       "      <td>263,000</td>\n",
       "      <td>6</td>\n",
       "      <td>1983</td>\n",
       "      <td>개포로 516</td>\n",
       "      <td>NaN</td>\n",
       "      <td></td>\n",
       "      <td>중개거래</td>\n",
       "      <td>서울 강남구</td>\n",
       "    </tr>\n",
       "    <tr>\n",
       "      <th>19</th>\n",
       "      <td>서울특별시 강남구 개포동</td>\n",
       "      <td>185</td>\n",
       "      <td>0185</td>\n",
       "      <td>0000</td>\n",
       "      <td>개포주공7단지</td>\n",
       "      <td>73.26</td>\n",
       "      <td>202311</td>\n",
       "      <td>13</td>\n",
       "      <td>228,500</td>\n",
       "      <td>6</td>\n",
       "      <td>1983</td>\n",
       "      <td>개포로 516</td>\n",
       "      <td>NaN</td>\n",
       "      <td></td>\n",
       "      <td>중개거래</td>\n",
       "      <td>서울 강남구</td>\n",
       "    </tr>\n",
       "  </tbody>\n",
       "</table>\n",
       "</div>"
      ],
      "text/plain": [
       "   □ 본 서비스에서 제공하는 정보는 법적인 효력이 없으므로 참고용으로만 활용하시기 바랍니다. Unnamed: 1 Unnamed: 2  \\\n",
       "0   □ 신고정보가 실시간 변경, 해제되어 제공시점에 따라 공개건수 및 내용이 상이할 수...        NaN        NaN   \n",
       "1   □ 본 자료는 계약일 기준입니다. (※ 7월 계약, 8월 신고건 → 7월 거래건으로...        NaN        NaN   \n",
       "2   □ 통계자료 활용시에는 수치가 왜곡될 수 있으니 참고자료로만 활용하시기  바라며, ...        NaN        NaN   \n",
       "3                                                 NaN        NaN        NaN   \n",
       "4   * 국토교통부 실거래가 공개시스템의 궁금하신 점이나 문의사항은 주택거래신고 1588...        NaN        NaN   \n",
       "5                                              □ 검색조건        NaN        NaN   \n",
       "6                          계약일자 : 20231101 ~ 20231130        NaN        NaN   \n",
       "7                                    실거래 구분 : 아파트(매매)        NaN        NaN   \n",
       "8                                         주소구분 : 지번주소        NaN        NaN   \n",
       "9                                          시도 : 서울특별시        NaN        NaN   \n",
       "10                                           시군구 : 전체        NaN        NaN   \n",
       "11                                           읍면동 : 전체        NaN        NaN   \n",
       "12                                            면적 : 전체        NaN        NaN   \n",
       "13                                          금액선택 : 전체        NaN        NaN   \n",
       "14                                                NaN        NaN        NaN   \n",
       "15                                                시군구         번지         본번   \n",
       "16                                      서울특별시 강남구 개포동      651-1       0651   \n",
       "17                                      서울특별시 강남구 개포동        189       0189   \n",
       "18                                      서울특별시 강남구 개포동        185       0185   \n",
       "19                                      서울특별시 강남구 개포동        185       0185   \n",
       "\n",
       "   Unnamed: 3 Unnamed: 4 Unnamed: 5 Unnamed: 6 Unnamed: 7      Unnamed: 8  \\\n",
       "0         NaN        NaN        NaN        NaN        NaN             NaN   \n",
       "1         NaN        NaN        NaN        NaN        NaN             NaN   \n",
       "2         NaN        NaN        NaN        NaN        NaN             NaN   \n",
       "3         NaN        NaN        NaN        NaN        NaN             NaN   \n",
       "4         NaN        NaN        NaN        NaN        NaN             NaN   \n",
       "5         NaN        NaN        NaN        NaN        NaN             NaN   \n",
       "6         NaN        NaN        NaN        NaN        NaN             NaN   \n",
       "7         NaN        NaN        NaN        NaN        NaN             NaN   \n",
       "8         NaN        NaN        NaN        NaN        NaN             NaN   \n",
       "9         NaN        NaN        NaN        NaN        NaN             NaN   \n",
       "10        NaN        NaN        NaN        NaN        NaN             NaN   \n",
       "11        NaN        NaN        NaN        NaN        NaN             NaN   \n",
       "12        NaN        NaN        NaN        NaN        NaN             NaN   \n",
       "13        NaN        NaN        NaN        NaN        NaN             NaN   \n",
       "14        NaN        NaN        NaN        NaN        NaN             NaN   \n",
       "15         부번        단지명    전용면적(㎡)       계약년월        계약일        거래금액(만원)   \n",
       "16       0001    개포더샵트리에   108.0923     202311         22         220,000   \n",
       "17       0000  개포자이프레지던스      59.98     202311          7         216,000   \n",
       "18       0000    개포주공6단지      83.21     202311         13         263,000   \n",
       "19       0000    개포주공7단지      73.26     202311         13         228,500   \n",
       "\n",
       "   Unnamed: 9 Unnamed: 10 Unnamed: 11 Unnamed: 12 Unnamed: 13 Unnamed: 14  \\\n",
       "0         NaN         NaN         NaN         NaN         NaN         NaN   \n",
       "1         NaN         NaN         NaN         NaN         NaN         NaN   \n",
       "2         NaN         NaN         NaN         NaN         NaN         NaN   \n",
       "3         NaN         NaN         NaN         NaN         NaN         NaN   \n",
       "4         NaN         NaN         NaN         NaN         NaN         NaN   \n",
       "5         NaN         NaN         NaN         NaN         NaN         NaN   \n",
       "6         NaN         NaN         NaN         NaN         NaN         NaN   \n",
       "7         NaN         NaN         NaN         NaN         NaN         NaN   \n",
       "8         NaN         NaN         NaN         NaN         NaN         NaN   \n",
       "9         NaN         NaN         NaN         NaN         NaN         NaN   \n",
       "10        NaN         NaN         NaN         NaN         NaN         NaN   \n",
       "11        NaN         NaN         NaN         NaN         NaN         NaN   \n",
       "12        NaN         NaN         NaN         NaN         NaN         NaN   \n",
       "13        NaN         NaN         NaN         NaN         NaN         NaN   \n",
       "14        NaN         NaN         NaN         NaN         NaN         NaN   \n",
       "15          층        건축년도         도로명     해제사유발생일        등기일자        거래유형   \n",
       "16          7        2021     개포로 311         NaN                    중개거래   \n",
       "17         12        2023      삼성로 14         NaN                    중개거래   \n",
       "18          6        1983     개포로 516         NaN                    중개거래   \n",
       "19          6        1983     개포로 516         NaN                    중개거래   \n",
       "\n",
       "   Unnamed: 15  \n",
       "0          NaN  \n",
       "1          NaN  \n",
       "2          NaN  \n",
       "3          NaN  \n",
       "4          NaN  \n",
       "5          NaN  \n",
       "6          NaN  \n",
       "7          NaN  \n",
       "8          NaN  \n",
       "9          NaN  \n",
       "10         NaN  \n",
       "11         NaN  \n",
       "12         NaN  \n",
       "13         NaN  \n",
       "14         NaN  \n",
       "15      중개사소재지  \n",
       "16      서울 강남구  \n",
       "17      서울 강남구  \n",
       "18      서울 강남구  \n",
       "19      서울 강남구  "
      ]
     },
     "execution_count": 3,
     "metadata": {},
     "output_type": "execute_result"
    }
   ],
   "source": [
    "df.head(20) # 다운 받은 엑셀의 헤더부분에서 필요없는 내용이 존재"
   ]
  },
  {
   "cell_type": "code",
   "execution_count": 4,
   "metadata": {},
   "outputs": [
    {
     "data": {
      "text/html": [
       "<div>\n",
       "<style scoped>\n",
       "    .dataframe tbody tr th:only-of-type {\n",
       "        vertical-align: middle;\n",
       "    }\n",
       "\n",
       "    .dataframe tbody tr th {\n",
       "        vertical-align: top;\n",
       "    }\n",
       "\n",
       "    .dataframe thead th {\n",
       "        text-align: right;\n",
       "    }\n",
       "</style>\n",
       "<table border=\"1\" class=\"dataframe\">\n",
       "  <thead>\n",
       "    <tr style=\"text-align: right;\">\n",
       "      <th></th>\n",
       "      <th>□ 본 서비스에서 제공하는 정보는 법적인 효력이 없으므로 참고용으로만 활용하시기 바랍니다.</th>\n",
       "      <th>Unnamed: 1</th>\n",
       "      <th>Unnamed: 2</th>\n",
       "      <th>Unnamed: 3</th>\n",
       "      <th>Unnamed: 4</th>\n",
       "      <th>Unnamed: 5</th>\n",
       "      <th>Unnamed: 6</th>\n",
       "      <th>Unnamed: 7</th>\n",
       "      <th>Unnamed: 8</th>\n",
       "      <th>Unnamed: 9</th>\n",
       "      <th>Unnamed: 10</th>\n",
       "      <th>Unnamed: 11</th>\n",
       "      <th>Unnamed: 12</th>\n",
       "      <th>Unnamed: 13</th>\n",
       "      <th>Unnamed: 14</th>\n",
       "      <th>Unnamed: 15</th>\n",
       "    </tr>\n",
       "  </thead>\n",
       "  <tbody>\n",
       "    <tr>\n",
       "      <th>15</th>\n",
       "      <td>시군구</td>\n",
       "      <td>번지</td>\n",
       "      <td>본번</td>\n",
       "      <td>부번</td>\n",
       "      <td>단지명</td>\n",
       "      <td>전용면적(㎡)</td>\n",
       "      <td>계약년월</td>\n",
       "      <td>계약일</td>\n",
       "      <td>거래금액(만원)</td>\n",
       "      <td>층</td>\n",
       "      <td>건축년도</td>\n",
       "      <td>도로명</td>\n",
       "      <td>해제사유발생일</td>\n",
       "      <td>등기일자</td>\n",
       "      <td>거래유형</td>\n",
       "      <td>중개사소재지</td>\n",
       "    </tr>\n",
       "    <tr>\n",
       "      <th>16</th>\n",
       "      <td>서울특별시 강남구 개포동</td>\n",
       "      <td>651-1</td>\n",
       "      <td>0651</td>\n",
       "      <td>0001</td>\n",
       "      <td>개포더샵트리에</td>\n",
       "      <td>108.0923</td>\n",
       "      <td>202311</td>\n",
       "      <td>22</td>\n",
       "      <td>220,000</td>\n",
       "      <td>7</td>\n",
       "      <td>2021</td>\n",
       "      <td>개포로 311</td>\n",
       "      <td>NaN</td>\n",
       "      <td></td>\n",
       "      <td>중개거래</td>\n",
       "      <td>서울 강남구</td>\n",
       "    </tr>\n",
       "    <tr>\n",
       "      <th>17</th>\n",
       "      <td>서울특별시 강남구 개포동</td>\n",
       "      <td>189</td>\n",
       "      <td>0189</td>\n",
       "      <td>0000</td>\n",
       "      <td>개포자이프레지던스</td>\n",
       "      <td>59.98</td>\n",
       "      <td>202311</td>\n",
       "      <td>7</td>\n",
       "      <td>216,000</td>\n",
       "      <td>12</td>\n",
       "      <td>2023</td>\n",
       "      <td>삼성로 14</td>\n",
       "      <td>NaN</td>\n",
       "      <td></td>\n",
       "      <td>중개거래</td>\n",
       "      <td>서울 강남구</td>\n",
       "    </tr>\n",
       "    <tr>\n",
       "      <th>18</th>\n",
       "      <td>서울특별시 강남구 개포동</td>\n",
       "      <td>185</td>\n",
       "      <td>0185</td>\n",
       "      <td>0000</td>\n",
       "      <td>개포주공6단지</td>\n",
       "      <td>83.21</td>\n",
       "      <td>202311</td>\n",
       "      <td>13</td>\n",
       "      <td>263,000</td>\n",
       "      <td>6</td>\n",
       "      <td>1983</td>\n",
       "      <td>개포로 516</td>\n",
       "      <td>NaN</td>\n",
       "      <td></td>\n",
       "      <td>중개거래</td>\n",
       "      <td>서울 강남구</td>\n",
       "    </tr>\n",
       "    <tr>\n",
       "      <th>19</th>\n",
       "      <td>서울특별시 강남구 개포동</td>\n",
       "      <td>185</td>\n",
       "      <td>0185</td>\n",
       "      <td>0000</td>\n",
       "      <td>개포주공7단지</td>\n",
       "      <td>73.26</td>\n",
       "      <td>202311</td>\n",
       "      <td>13</td>\n",
       "      <td>228,500</td>\n",
       "      <td>6</td>\n",
       "      <td>1983</td>\n",
       "      <td>개포로 516</td>\n",
       "      <td>NaN</td>\n",
       "      <td></td>\n",
       "      <td>중개거래</td>\n",
       "      <td>서울 강남구</td>\n",
       "    </tr>\n",
       "    <tr>\n",
       "      <th>...</th>\n",
       "      <td>...</td>\n",
       "      <td>...</td>\n",
       "      <td>...</td>\n",
       "      <td>...</td>\n",
       "      <td>...</td>\n",
       "      <td>...</td>\n",
       "      <td>...</td>\n",
       "      <td>...</td>\n",
       "      <td>...</td>\n",
       "      <td>...</td>\n",
       "      <td>...</td>\n",
       "      <td>...</td>\n",
       "      <td>...</td>\n",
       "      <td>...</td>\n",
       "      <td>...</td>\n",
       "      <td>...</td>\n",
       "    </tr>\n",
       "    <tr>\n",
       "      <th>1875</th>\n",
       "      <td>서울특별시 중랑구 중화동</td>\n",
       "      <td>450</td>\n",
       "      <td>0450</td>\n",
       "      <td>0000</td>\n",
       "      <td>한신아파트(103~109)</td>\n",
       "      <td>59.76</td>\n",
       "      <td>202311</td>\n",
       "      <td>2</td>\n",
       "      <td>60,500</td>\n",
       "      <td>9</td>\n",
       "      <td>1997</td>\n",
       "      <td>동일로 752</td>\n",
       "      <td>NaN</td>\n",
       "      <td></td>\n",
       "      <td>중개거래</td>\n",
       "      <td>서울 중랑구</td>\n",
       "    </tr>\n",
       "    <tr>\n",
       "      <th>1876</th>\n",
       "      <td>서울특별시 중랑구 중화동</td>\n",
       "      <td>450</td>\n",
       "      <td>0450</td>\n",
       "      <td>0000</td>\n",
       "      <td>한신아파트(103~109)</td>\n",
       "      <td>59.76</td>\n",
       "      <td>202311</td>\n",
       "      <td>4</td>\n",
       "      <td>63,500</td>\n",
       "      <td>25</td>\n",
       "      <td>1997</td>\n",
       "      <td>동일로 752</td>\n",
       "      <td>NaN</td>\n",
       "      <td>20231218</td>\n",
       "      <td>중개거래</td>\n",
       "      <td>서울 중랑구</td>\n",
       "    </tr>\n",
       "    <tr>\n",
       "      <th>1877</th>\n",
       "      <td>서울특별시 중랑구 중화동</td>\n",
       "      <td>450</td>\n",
       "      <td>0450</td>\n",
       "      <td>0000</td>\n",
       "      <td>한신아파트(103~109)</td>\n",
       "      <td>59.76</td>\n",
       "      <td>202311</td>\n",
       "      <td>11</td>\n",
       "      <td>62,500</td>\n",
       "      <td>8</td>\n",
       "      <td>1997</td>\n",
       "      <td>동일로 752</td>\n",
       "      <td>NaN</td>\n",
       "      <td></td>\n",
       "      <td>중개거래</td>\n",
       "      <td>서울 중랑구</td>\n",
       "    </tr>\n",
       "    <tr>\n",
       "      <th>1878</th>\n",
       "      <td>서울특별시 중랑구 중화동</td>\n",
       "      <td>450</td>\n",
       "      <td>0450</td>\n",
       "      <td>0000</td>\n",
       "      <td>한신아파트(103~109)</td>\n",
       "      <td>50.37</td>\n",
       "      <td>202311</td>\n",
       "      <td>18</td>\n",
       "      <td>55,500</td>\n",
       "      <td>10</td>\n",
       "      <td>1997</td>\n",
       "      <td>동일로 752</td>\n",
       "      <td>NaN</td>\n",
       "      <td></td>\n",
       "      <td>중개거래</td>\n",
       "      <td>서울 중랑구</td>\n",
       "    </tr>\n",
       "    <tr>\n",
       "      <th>1879</th>\n",
       "      <td>서울특별시 중랑구 중화동</td>\n",
       "      <td>450</td>\n",
       "      <td>0450</td>\n",
       "      <td>0000</td>\n",
       "      <td>한신아파트(103~109)</td>\n",
       "      <td>59.76</td>\n",
       "      <td>202311</td>\n",
       "      <td>19</td>\n",
       "      <td>60,000</td>\n",
       "      <td>6</td>\n",
       "      <td>1997</td>\n",
       "      <td>동일로 752</td>\n",
       "      <td>NaN</td>\n",
       "      <td></td>\n",
       "      <td>중개거래</td>\n",
       "      <td>서울 중랑구</td>\n",
       "    </tr>\n",
       "  </tbody>\n",
       "</table>\n",
       "<p>1865 rows × 16 columns</p>\n",
       "</div>"
      ],
      "text/plain": [
       "     □ 본 서비스에서 제공하는 정보는 법적인 효력이 없으므로 참고용으로만 활용하시기 바랍니다. Unnamed: 1 Unnamed: 2  \\\n",
       "15                                                  시군구         번지         본번   \n",
       "16                                        서울특별시 강남구 개포동      651-1       0651   \n",
       "17                                        서울특별시 강남구 개포동        189       0189   \n",
       "18                                        서울특별시 강남구 개포동        185       0185   \n",
       "19                                        서울특별시 강남구 개포동        185       0185   \n",
       "...                                                 ...        ...        ...   \n",
       "1875                                      서울특별시 중랑구 중화동        450       0450   \n",
       "1876                                      서울특별시 중랑구 중화동        450       0450   \n",
       "1877                                      서울특별시 중랑구 중화동        450       0450   \n",
       "1878                                      서울특별시 중랑구 중화동        450       0450   \n",
       "1879                                      서울특별시 중랑구 중화동        450       0450   \n",
       "\n",
       "     Unnamed: 3      Unnamed: 4 Unnamed: 5 Unnamed: 6 Unnamed: 7  \\\n",
       "15           부번             단지명    전용면적(㎡)       계약년월        계약일   \n",
       "16         0001         개포더샵트리에   108.0923     202311         22   \n",
       "17         0000       개포자이프레지던스      59.98     202311          7   \n",
       "18         0000         개포주공6단지      83.21     202311         13   \n",
       "19         0000         개포주공7단지      73.26     202311         13   \n",
       "...         ...             ...        ...        ...        ...   \n",
       "1875       0000  한신아파트(103~109)      59.76     202311          2   \n",
       "1876       0000  한신아파트(103~109)      59.76     202311          4   \n",
       "1877       0000  한신아파트(103~109)      59.76     202311         11   \n",
       "1878       0000  한신아파트(103~109)      50.37     202311         18   \n",
       "1879       0000  한신아파트(103~109)      59.76     202311         19   \n",
       "\n",
       "          Unnamed: 8 Unnamed: 9 Unnamed: 10 Unnamed: 11 Unnamed: 12  \\\n",
       "15          거래금액(만원)          층        건축년도         도로명     해제사유발생일   \n",
       "16           220,000          7        2021     개포로 311         NaN   \n",
       "17           216,000         12        2023      삼성로 14         NaN   \n",
       "18           263,000          6        1983     개포로 516         NaN   \n",
       "19           228,500          6        1983     개포로 516         NaN   \n",
       "...              ...        ...         ...         ...         ...   \n",
       "1875          60,500          9        1997     동일로 752         NaN   \n",
       "1876          63,500         25        1997     동일로 752         NaN   \n",
       "1877          62,500          8        1997     동일로 752         NaN   \n",
       "1878          55,500         10        1997     동일로 752         NaN   \n",
       "1879          60,000          6        1997     동일로 752         NaN   \n",
       "\n",
       "     Unnamed: 13 Unnamed: 14 Unnamed: 15  \n",
       "15          등기일자        거래유형      중개사소재지  \n",
       "16                      중개거래      서울 강남구  \n",
       "17                      중개거래      서울 강남구  \n",
       "18                      중개거래      서울 강남구  \n",
       "19                      중개거래      서울 강남구  \n",
       "...          ...         ...         ...  \n",
       "1875                    중개거래      서울 중랑구  \n",
       "1876    20231218        중개거래      서울 중랑구  \n",
       "1877                    중개거래      서울 중랑구  \n",
       "1878                    중개거래      서울 중랑구  \n",
       "1879                    중개거래      서울 중랑구  \n",
       "\n",
       "[1865 rows x 16 columns]"
      ]
     },
     "execution_count": 4,
     "metadata": {},
     "output_type": "execute_result"
    }
   ],
   "source": [
    "df_need = df.drop(df.index[0:15]) # 데이터 프레임에서 필요한 부분만 축출\n",
    "df_need"
   ]
  },
  {
   "cell_type": "code",
   "execution_count": 5,
   "metadata": {},
   "outputs": [
    {
     "data": {
      "text/plain": [
       "□ 본 서비스에서 제공하는 정보는 법적인 효력이 없으므로 참고용으로만 활용하시기 바랍니다.         시군구\n",
       "Unnamed: 1                                                  번지\n",
       "Unnamed: 2                                                  본번\n",
       "Unnamed: 3                                                  부번\n",
       "Unnamed: 4                                                 단지명\n",
       "Unnamed: 5                                             전용면적(㎡)\n",
       "Unnamed: 6                                                계약년월\n",
       "Unnamed: 7                                                 계약일\n",
       "Unnamed: 8                                            거래금액(만원)\n",
       "Unnamed: 9                                                   층\n",
       "Unnamed: 10                                               건축년도\n",
       "Unnamed: 11                                                도로명\n",
       "Unnamed: 12                                            해제사유발생일\n",
       "Unnamed: 13                                               등기일자\n",
       "Unnamed: 14                                               거래유형\n",
       "Unnamed: 15                                             중개사소재지\n",
       "Name: , dtype: object"
      ]
     },
     "execution_count": 5,
     "metadata": {},
     "output_type": "execute_result"
    }
   ],
   "source": [
    "new_header = df_need.iloc[0]\n",
    "new_header.name = ''\n",
    "new_header # 컬럼명 수정을 위한 object"
   ]
  },
  {
   "cell_type": "code",
   "execution_count": 6,
   "metadata": {},
   "outputs": [],
   "source": [
    "df = df_need[1:]\n",
    "df.columns = new_header\n",
    "\n",
    "df = df.reset_index(drop=True)"
   ]
  },
  {
   "cell_type": "code",
   "execution_count": 7,
   "metadata": {},
   "outputs": [
    {
     "data": {
      "text/html": [
       "<div>\n",
       "<style scoped>\n",
       "    .dataframe tbody tr th:only-of-type {\n",
       "        vertical-align: middle;\n",
       "    }\n",
       "\n",
       "    .dataframe tbody tr th {\n",
       "        vertical-align: top;\n",
       "    }\n",
       "\n",
       "    .dataframe thead th {\n",
       "        text-align: right;\n",
       "    }\n",
       "</style>\n",
       "<table border=\"1\" class=\"dataframe\">\n",
       "  <thead>\n",
       "    <tr style=\"text-align: right;\">\n",
       "      <th></th>\n",
       "      <th>시군구</th>\n",
       "      <th>번지</th>\n",
       "      <th>본번</th>\n",
       "      <th>부번</th>\n",
       "      <th>단지명</th>\n",
       "      <th>전용면적(㎡)</th>\n",
       "      <th>계약년월</th>\n",
       "      <th>계약일</th>\n",
       "      <th>거래금액(만원)</th>\n",
       "      <th>층</th>\n",
       "      <th>건축년도</th>\n",
       "      <th>도로명</th>\n",
       "      <th>해제사유발생일</th>\n",
       "      <th>등기일자</th>\n",
       "      <th>거래유형</th>\n",
       "      <th>중개사소재지</th>\n",
       "    </tr>\n",
       "  </thead>\n",
       "  <tbody>\n",
       "    <tr>\n",
       "      <th>0</th>\n",
       "      <td>서울특별시 강남구 개포동</td>\n",
       "      <td>651-1</td>\n",
       "      <td>0651</td>\n",
       "      <td>0001</td>\n",
       "      <td>개포더샵트리에</td>\n",
       "      <td>108.0923</td>\n",
       "      <td>202311</td>\n",
       "      <td>22</td>\n",
       "      <td>220,000</td>\n",
       "      <td>7</td>\n",
       "      <td>2021</td>\n",
       "      <td>개포로 311</td>\n",
       "      <td>NaN</td>\n",
       "      <td></td>\n",
       "      <td>중개거래</td>\n",
       "      <td>서울 강남구</td>\n",
       "    </tr>\n",
       "    <tr>\n",
       "      <th>1</th>\n",
       "      <td>서울특별시 강남구 개포동</td>\n",
       "      <td>189</td>\n",
       "      <td>0189</td>\n",
       "      <td>0000</td>\n",
       "      <td>개포자이프레지던스</td>\n",
       "      <td>59.98</td>\n",
       "      <td>202311</td>\n",
       "      <td>7</td>\n",
       "      <td>216,000</td>\n",
       "      <td>12</td>\n",
       "      <td>2023</td>\n",
       "      <td>삼성로 14</td>\n",
       "      <td>NaN</td>\n",
       "      <td></td>\n",
       "      <td>중개거래</td>\n",
       "      <td>서울 강남구</td>\n",
       "    </tr>\n",
       "    <tr>\n",
       "      <th>2</th>\n",
       "      <td>서울특별시 강남구 개포동</td>\n",
       "      <td>185</td>\n",
       "      <td>0185</td>\n",
       "      <td>0000</td>\n",
       "      <td>개포주공6단지</td>\n",
       "      <td>83.21</td>\n",
       "      <td>202311</td>\n",
       "      <td>13</td>\n",
       "      <td>263,000</td>\n",
       "      <td>6</td>\n",
       "      <td>1983</td>\n",
       "      <td>개포로 516</td>\n",
       "      <td>NaN</td>\n",
       "      <td></td>\n",
       "      <td>중개거래</td>\n",
       "      <td>서울 강남구</td>\n",
       "    </tr>\n",
       "    <tr>\n",
       "      <th>3</th>\n",
       "      <td>서울특별시 강남구 개포동</td>\n",
       "      <td>185</td>\n",
       "      <td>0185</td>\n",
       "      <td>0000</td>\n",
       "      <td>개포주공7단지</td>\n",
       "      <td>73.26</td>\n",
       "      <td>202311</td>\n",
       "      <td>13</td>\n",
       "      <td>228,500</td>\n",
       "      <td>6</td>\n",
       "      <td>1983</td>\n",
       "      <td>개포로 516</td>\n",
       "      <td>NaN</td>\n",
       "      <td></td>\n",
       "      <td>중개거래</td>\n",
       "      <td>서울 강남구</td>\n",
       "    </tr>\n",
       "    <tr>\n",
       "      <th>4</th>\n",
       "      <td>서울특별시 강남구 개포동</td>\n",
       "      <td>649</td>\n",
       "      <td>0649</td>\n",
       "      <td>0000</td>\n",
       "      <td>경남1</td>\n",
       "      <td>123.28</td>\n",
       "      <td>202311</td>\n",
       "      <td>15</td>\n",
       "      <td>231,000</td>\n",
       "      <td>11</td>\n",
       "      <td>1984</td>\n",
       "      <td>언주로 110</td>\n",
       "      <td>NaN</td>\n",
       "      <td></td>\n",
       "      <td>직거래</td>\n",
       "      <td>-</td>\n",
       "    </tr>\n",
       "    <tr>\n",
       "      <th>...</th>\n",
       "      <td>...</td>\n",
       "      <td>...</td>\n",
       "      <td>...</td>\n",
       "      <td>...</td>\n",
       "      <td>...</td>\n",
       "      <td>...</td>\n",
       "      <td>...</td>\n",
       "      <td>...</td>\n",
       "      <td>...</td>\n",
       "      <td>...</td>\n",
       "      <td>...</td>\n",
       "      <td>...</td>\n",
       "      <td>...</td>\n",
       "      <td>...</td>\n",
       "      <td>...</td>\n",
       "      <td>...</td>\n",
       "    </tr>\n",
       "    <tr>\n",
       "      <th>1859</th>\n",
       "      <td>서울특별시 중랑구 중화동</td>\n",
       "      <td>450</td>\n",
       "      <td>0450</td>\n",
       "      <td>0000</td>\n",
       "      <td>한신아파트(103~109)</td>\n",
       "      <td>59.76</td>\n",
       "      <td>202311</td>\n",
       "      <td>2</td>\n",
       "      <td>60,500</td>\n",
       "      <td>9</td>\n",
       "      <td>1997</td>\n",
       "      <td>동일로 752</td>\n",
       "      <td>NaN</td>\n",
       "      <td></td>\n",
       "      <td>중개거래</td>\n",
       "      <td>서울 중랑구</td>\n",
       "    </tr>\n",
       "    <tr>\n",
       "      <th>1860</th>\n",
       "      <td>서울특별시 중랑구 중화동</td>\n",
       "      <td>450</td>\n",
       "      <td>0450</td>\n",
       "      <td>0000</td>\n",
       "      <td>한신아파트(103~109)</td>\n",
       "      <td>59.76</td>\n",
       "      <td>202311</td>\n",
       "      <td>4</td>\n",
       "      <td>63,500</td>\n",
       "      <td>25</td>\n",
       "      <td>1997</td>\n",
       "      <td>동일로 752</td>\n",
       "      <td>NaN</td>\n",
       "      <td>20231218</td>\n",
       "      <td>중개거래</td>\n",
       "      <td>서울 중랑구</td>\n",
       "    </tr>\n",
       "    <tr>\n",
       "      <th>1861</th>\n",
       "      <td>서울특별시 중랑구 중화동</td>\n",
       "      <td>450</td>\n",
       "      <td>0450</td>\n",
       "      <td>0000</td>\n",
       "      <td>한신아파트(103~109)</td>\n",
       "      <td>59.76</td>\n",
       "      <td>202311</td>\n",
       "      <td>11</td>\n",
       "      <td>62,500</td>\n",
       "      <td>8</td>\n",
       "      <td>1997</td>\n",
       "      <td>동일로 752</td>\n",
       "      <td>NaN</td>\n",
       "      <td></td>\n",
       "      <td>중개거래</td>\n",
       "      <td>서울 중랑구</td>\n",
       "    </tr>\n",
       "    <tr>\n",
       "      <th>1862</th>\n",
       "      <td>서울특별시 중랑구 중화동</td>\n",
       "      <td>450</td>\n",
       "      <td>0450</td>\n",
       "      <td>0000</td>\n",
       "      <td>한신아파트(103~109)</td>\n",
       "      <td>50.37</td>\n",
       "      <td>202311</td>\n",
       "      <td>18</td>\n",
       "      <td>55,500</td>\n",
       "      <td>10</td>\n",
       "      <td>1997</td>\n",
       "      <td>동일로 752</td>\n",
       "      <td>NaN</td>\n",
       "      <td></td>\n",
       "      <td>중개거래</td>\n",
       "      <td>서울 중랑구</td>\n",
       "    </tr>\n",
       "    <tr>\n",
       "      <th>1863</th>\n",
       "      <td>서울특별시 중랑구 중화동</td>\n",
       "      <td>450</td>\n",
       "      <td>0450</td>\n",
       "      <td>0000</td>\n",
       "      <td>한신아파트(103~109)</td>\n",
       "      <td>59.76</td>\n",
       "      <td>202311</td>\n",
       "      <td>19</td>\n",
       "      <td>60,000</td>\n",
       "      <td>6</td>\n",
       "      <td>1997</td>\n",
       "      <td>동일로 752</td>\n",
       "      <td>NaN</td>\n",
       "      <td></td>\n",
       "      <td>중개거래</td>\n",
       "      <td>서울 중랑구</td>\n",
       "    </tr>\n",
       "  </tbody>\n",
       "</table>\n",
       "<p>1864 rows × 16 columns</p>\n",
       "</div>"
      ],
      "text/plain": [
       "                시군구     번지    본번    부번             단지명   전용면적(㎡)    계약년월 계약일  \\\n",
       "0     서울특별시 강남구 개포동  651-1  0651  0001         개포더샵트리에  108.0923  202311  22   \n",
       "1     서울특별시 강남구 개포동    189  0189  0000       개포자이프레지던스     59.98  202311   7   \n",
       "2     서울특별시 강남구 개포동    185  0185  0000         개포주공6단지     83.21  202311  13   \n",
       "3     서울특별시 강남구 개포동    185  0185  0000         개포주공7단지     73.26  202311  13   \n",
       "4     서울특별시 강남구 개포동    649  0649  0000             경남1    123.28  202311  15   \n",
       "...             ...    ...   ...   ...             ...       ...     ...  ..   \n",
       "1859  서울특별시 중랑구 중화동    450  0450  0000  한신아파트(103~109)     59.76  202311   2   \n",
       "1860  서울특별시 중랑구 중화동    450  0450  0000  한신아파트(103~109)     59.76  202311   4   \n",
       "1861  서울특별시 중랑구 중화동    450  0450  0000  한신아파트(103~109)     59.76  202311  11   \n",
       "1862  서울특별시 중랑구 중화동    450  0450  0000  한신아파트(103~109)     50.37  202311  18   \n",
       "1863  서울특별시 중랑구 중화동    450  0450  0000  한신아파트(103~109)     59.76  202311  19   \n",
       "\n",
       "            거래금액(만원)   층  건축년도      도로명 해제사유발생일      등기일자  거래유형  중개사소재지  \n",
       "0            220,000   7  2021  개포로 311     NaN            중개거래  서울 강남구  \n",
       "1            216,000  12  2023   삼성로 14     NaN            중개거래  서울 강남구  \n",
       "2            263,000   6  1983  개포로 516     NaN            중개거래  서울 강남구  \n",
       "3            228,500   6  1983  개포로 516     NaN            중개거래  서울 강남구  \n",
       "4            231,000  11  1984  언주로 110     NaN             직거래       -  \n",
       "...              ...  ..   ...      ...     ...       ...   ...     ...  \n",
       "1859          60,500   9  1997  동일로 752     NaN            중개거래  서울 중랑구  \n",
       "1860          63,500  25  1997  동일로 752     NaN  20231218  중개거래  서울 중랑구  \n",
       "1861          62,500   8  1997  동일로 752     NaN            중개거래  서울 중랑구  \n",
       "1862          55,500  10  1997  동일로 752     NaN            중개거래  서울 중랑구  \n",
       "1863          60,000   6  1997  동일로 752     NaN            중개거래  서울 중랑구  \n",
       "\n",
       "[1864 rows x 16 columns]"
      ]
     },
     "execution_count": 7,
     "metadata": {},
     "output_type": "execute_result"
    }
   ],
   "source": [
    "df"
   ]
  },
  {
   "cell_type": "code",
   "execution_count": 8,
   "metadata": {},
   "outputs": [],
   "source": [
    "# 필요없는 컬럼 제거\n",
    "\n",
    "df = df.drop(columns=['번지'])\n",
    "df = df.drop(columns=['본번'])\n",
    "df = df.drop(columns=['부번'])\n",
    "df = df.drop(columns=['계약일'])\n",
    "df = df.drop(columns=['도로명'])\n",
    "df = df.drop(columns=['중개사소재지'])\n",
    "df = df.drop(columns=['거래유형'])\n",
    "df = df.drop(columns=['층'])"
   ]
  },
  {
   "cell_type": "code",
   "execution_count": 9,
   "metadata": {},
   "outputs": [],
   "source": [
    "# 해제된 계약 제거\n",
    "df = df[df['해제사유발생일'].isna()]\n",
    "df = df.drop(columns=['해제사유발생일'])"
   ]
  },
  {
   "cell_type": "code",
   "execution_count": 10,
   "metadata": {},
   "outputs": [],
   "source": [
    "# 시군구 > 구\n",
    "df['시군구'] = df['시군구'].str.split(' ')\n",
    "df[['시', '구', '동']] = pd.DataFrame(df['시군구'].to_list())\n",
    "df = df.drop(columns=['시군구', '시', '동'])"
   ]
  },
  {
   "cell_type": "code",
   "execution_count": 11,
   "metadata": {},
   "outputs": [
    {
     "name": "stdout",
     "output_type": "stream",
     "text": [
      "\n",
      "구: 강남구\n",
      "                  단지명   전용면적(㎡)    계약년월        거래금액(만원)  건축년도      등기일자    구\n",
      "0             개포더샵트리에  108.0923  202311         220,000  2021            강남구\n",
      "1           개포자이프레지던스     59.98  202311         216,000  2023            강남구\n",
      "2             개포주공6단지     83.21  202311         263,000  1983            강남구\n",
      "3             개포주공7단지     73.26  202311         228,500  1983            강남구\n",
      "4                 경남1    123.28  202311         231,000  1984            강남구\n",
      "..                ...       ...     ...             ...   ...       ...  ...\n",
      "103  청담3차이-편한세상(301동)     84.97  202311         162,000  2007            강남구\n",
      "104        청담4차이-편한세상     84.57  202311         204,250  2011  20231122  강남구\n",
      "105             청담스위트    13.425  202311          20,500  2015            강남구\n",
      "106              청담자이    82.365  202311         307,000  2011            강남구\n",
      "107         청담현대3차아파트        85  202311         231,000  1999            강남구\n",
      "\n",
      "[107 rows x 7 columns]\n",
      "\n",
      "구: 강동구\n",
      "           단지명 전용면적(㎡)    계약년월        거래금액(만원)  건축년도      등기일자    구\n",
      "108      현대아파트   84.78  202311         184,000  1988            강동구\n",
      "109  강동리버스트4단지   49.82  202311          67,900  2020  20231129  강동구\n",
      "110  강일리버파크2단지   84.53  202311          85,500  2009            강동구\n",
      "111  강일리버파크6단지   84.74  202311          85,000  2009            강동구\n",
      "112  강일리버파크7단지   84.74  202311          91,000  2009            강동구\n",
      "..         ...     ...     ...             ...   ...       ...  ...\n",
      "189    엘림스퀘어II   17.07  202311          14,000  2019  20231110  강동구\n",
      "190      중앙하이츠   84.99  202311          74,000  1998            강동구\n",
      "191   천호e-편한세상   84.95  202311          85,000  2005            강동구\n",
      "193      천호네스빌   46.01  202311          30,000  2003  20231201  강동구\n",
      "194    천호태영아파트   84.88  202311          94,000  1999            강동구\n",
      "\n",
      "[86 rows x 7 columns]\n",
      "\n",
      "구: 강북구\n",
      "                단지명  전용면적(㎡)    계약년월        거래금액(만원)  건축년도      등기일자    구\n",
      "195          태천와이드빌    84.75  202311          58,400  2000            강북구\n",
      "196         현대코아아파트     59.9  202311          57,500  1999            강북구\n",
      "197          경남아너스빌  84.9134  202311          71,500  2008  20231128  강북구\n",
      "198  경남아너스빌(1356-0)   59.964  202311          60,000  2003            강북구\n",
      "199  경남아너스빌(1356-0)   59.964  202311          59,500  2003            강북구\n",
      "200  경남아너스빌(1356-0)   59.964  202311          60,000  2003            강북구\n",
      "201      꿈의숲해링턴플레이스    84.67  202311          89,000  2019            강북구\n",
      "202        두산위브트레지움    59.54  202311          69,000  2011            강북구\n",
      "203        두산위브트레지움    59.54  202311          60,000  2011  20231107  강북구\n",
      "204        두산위브트레지움    84.99  202311          73,000  2011            강북구\n",
      "205      래미안트리베라1단지    84.97  202311          93,000  2010            강북구\n",
      "206         벽산라이브파크    84.89  202311          65,300  2004            강북구\n",
      "207         벽산라이브파크       60  202311          53,000  2004            강북구\n",
      "208          송천센트레빌   59.762  202311          84,000  2010            강북구\n",
      "209          송천센트레빌  114.475  202311         136,000  2010            강북구\n",
      "210       에스케이북한산시티    84.76  202311          63,300  2004            강북구\n",
      "211       에스케이북한산시티   114.85  202311          73,000  2004            강북구\n",
      "212       에스케이북한산시티    59.98  202311          57,500  2004  20231213  강북구\n",
      "213       에스케이북한산시티    59.98  202311          60,000  2004            강북구\n",
      "214       에스케이북한산시티    59.98  202311          59,500  2004            강북구\n",
      "215         번동금호어울림    59.43  202311          48,500  1998            강북구\n",
      "216           번동솔그린    59.82  202311          45,000  1999            강북구\n",
      "217         번동한양아파트    84.67  202311          49,700  1992            강북구\n",
      "218        수유역두산위브1  84.9909  202311          73,500  2009            강북구\n",
      "219              신원    59.96  202311          43,500  2000            강북구\n",
      "220              신원     84.6  202311          58,500  2000            강북구\n",
      "221              한진    58.65  202311          42,400  2000            강북구\n",
      "222          해모로아파트   127.25  202311          65,000  2003  20231130  강북구\n",
      "223          효성인텔리안    81.12  202311          59,800  2005            강북구\n",
      "224              극동    84.99  202311          50,000  1992            강북구\n",
      "226          수유벽산1차    84.92  202311          65,000  1993            강북구\n",
      "227          수유벽산1차   122.58  202311          68,000  1993            강북구\n",
      "228          수유시그니티    33.19  202311          37,100  2023            강북구\n",
      "229           썬힐하우스     37.4  202311          13,000  2002  20231215  강북구\n",
      "230          어반레프대원    52.07  202311          54,000  2023            강북구\n",
      "231              청솔    56.85  202311          27,500  2002            강북구\n",
      "\n",
      "구: 강서구\n",
      "             단지명 전용면적(㎡)    계약년월        거래금액(만원)  건축년도      등기일자    구\n",
      "232     한원힐트리움수유   26.52  202311          32,000  2020            강서구\n",
      "233       두온리치벨리  133.47  202311          73,000  2004  20231115  강서구\n",
      "234        성원상떼빌   84.98  202311          50,000  1990            강서구\n",
      "235    가양2단지(성지)   34.44  202311          48,500  1992            강서구\n",
      "236  가양도시개발9-2단지    39.6  202311          54,300  1993            강서구\n",
      "..           ...     ...     ...             ...   ...       ...  ...\n",
      "326         웰라이빌   79.87  202311          44,000  2000            강서구\n",
      "327      중앙화곡하이츠   56.88  202311          50,000  1988            강서구\n",
      "328      중앙화곡하이츠   48.78  202311          37,000  1988            강서구\n",
      "329           초록   49.77  202311          53,800  1998            강서구\n",
      "330           초록   59.34  202311          60,000  1998            강서구\n",
      "\n",
      "[95 rows x 7 columns]\n",
      "\n",
      "구: 관악구\n",
      "                   단지명  전용면적(㎡)    계약년월        거래금액(만원)  건축년도      등기일자    구\n",
      "331                 초록    59.34  202311          62,000  1998  20231213  관악구\n",
      "332             태창네스트힐    82.35  202311          50,500  2004            관악구\n",
      "334        한경빌(938-26)    25.15  202311          16,500  2014  20231130  관악구\n",
      "335          한신베네스트아파트    57.67  202311          31,900  2012            관악구\n",
      "336            한양아이클래스    13.79  202311           8,000  2013            관악구\n",
      "337               화곡보람    84.51  202311          55,000  2004  20231219  관악구\n",
      "338             화곡푸르지오  125.021  202311         105,000  2002            관악구\n",
      "339             네스코수피아    38.64  202311          51,000  2021            관악구\n",
      "340              문영마운틴    83.27  202311          56,000  2003            관악구\n",
      "341           관악드림(삼성)    84.96  202311          89,000  2003            관악구\n",
      "342           관악드림(삼성)    59.85  202311          68,900  2003            관악구\n",
      "343           관악드림(삼성)    84.96  202311          88,500  2003            관악구\n",
      "344           관악드림(삼성)       60  202311          74,000  2003            관악구\n",
      "345              관악미래가   129.87  202311          76,000  2004            관악구\n",
      "346           관악월드메르디앙    79.27  202311          59,900  2005            관악구\n",
      "347           관악파크푸르지오    84.99  202311          72,000  2014  20231211  관악구\n",
      "348           관악파크푸르지오    59.98  202311          81,000  2014            관악구\n",
      "349           관악파크푸르지오    84.98  202311          93,000  2014            관악구\n",
      "350             관악푸르지오     84.2  202311         102,000  2004            관악구\n",
      "351             뉴그린아파트    83.75  202311          60,000  2011            관악구\n",
      "352       닷컴힐즈(1653-3)    49.01  202311          73,000  2023            관악구\n",
      "353                 두산    84.87  202311          99,000  2000            관악구\n",
      "354                 두산    59.92  202311          85,400  2000            관악구\n",
      "355              반석푸른숲    84.12  202311          85,000  2006            관악구\n",
      "356              벽산블루밍    84.99  202311          76,500  2005            관악구\n",
      "357              벽산블루밍    84.99  202311          85,000  2005            관악구\n",
      "358              벽산블루밍    59.99  202311          69,100  2005  20231124  관악구\n",
      "359              보라매삼성    84.84  202311          82,700  1996  20231115  관악구\n",
      "360               봉천동아   114.69  202311          95,000  2000            관악구\n",
      "361               봉천동아    84.87  202311          85,000  2000  20231215  관악구\n",
      "362  서울대입구아이원(1560-62)    59.96  202311          76,500  2006            관악구\n",
      "363                은천1    84.65  202311          90,000  2001            관악구\n",
      "364              코스모블루    14.25  202311          14,000  2012  20231109  관악구\n",
      "365              프라비다2    20.45  202311          17,500  2013  20231213  관악구\n",
      "366              프라비다M    15.66  202311          15,000  2014            관악구\n",
      "367              프라비다M    30.12  202311          31,000  2014            관악구\n",
      "368                건영1    60.27  202311          53,500  1984            관악구\n",
      "369                건영2    59.76  202311          41,500  1988            관악구\n",
      "370                건영4    84.89  202311          64,000  1997            관악구\n",
      "371         관악산휴먼시아1단지    84.97  202311          67,000  2008            관악구\n",
      "372         관악산휴먼시아2단지    84.97  202311          70,000  2008  20231120  관악구\n",
      "373         관악산휴먼시아2단지    84.97  202311          70,000  2008            관악구\n",
      "374              라이프미성    93.79  202311          52,000  1982  20231220  관악구\n",
      "\n",
      "구: 광진구\n",
      "              단지명  전용면적(㎡)    계약년월        거래금액(만원)  건축년도      등기일자    구\n",
      "376        보라매해담채    13.23  202311          14,000  2012  20231109  광진구\n",
      "377        보라매해담채    12.89  202311          14,000  2012  20231109  광진구\n",
      "378        신림푸르지오    84.79  202311          91,000  2005            광진구\n",
      "379        신림푸르지오   138.64  202311         125,000  2005            광진구\n",
      "380          신림현대   119.49  202311          95,000  1993            광진구\n",
      "381            신안    55.21  202311          43,000  1978            광진구\n",
      "382           주공1     59.5  202311          41,000  1995  20231211  광진구\n",
      "383      힐스테이트뉴포레    84.94  202311         125,000  2022            광진구\n",
      "384       광장힐스테이트   130.17  202311         209,500  2012            광진구\n",
      "385           워커힐      196  202311         285,000  1978            광진구\n",
      "386           워커힐      196  202311         285,000  1978            광진구\n",
      "387            청구    84.86  202311         125,500  1996            광진구\n",
      "388         현대파크빌    84.51  202311         150,000  2000            광진구\n",
      "389         현대파크빌    59.76  202311         114,000  2000            광진구\n",
      "390         현대파크빌    84.81  202311         153,500  2000            광진구\n",
      "391         현대파크빌    59.76  202311          98,000  2000            광진구\n",
      "392  e편한세상광진그랜드파크  84.9716  202311         165,000  2021            광진구\n",
      "393     구의강변우성아파트    84.76  202311          70,000  1992  20231205  광진구\n",
      "394       구의현대2단지    84.75  202311         132,000  1996            광진구\n",
      "395       구의현대2단지    84.91  202311         133,000  1996            광진구\n",
      "396  구의현대7단지현대홈타운    84.99  202311         119,500  1997            광진구\n",
      "397         현대프라임    59.82  202311         108,300  1997            광진구\n",
      "398         현대프라임    59.82  202311         116,000  1997            광진구\n",
      "399         현대프라임    59.82  202311         107,500  1997            광진구\n",
      "400         현대프라임   126.66  202311         228,000  1997            광진구\n",
      "401         현대프라임    84.99  202311         149,500  1997            광진구\n",
      "402   광진We’vePark   131.35  202311         119,000  2008            광진구\n",
      "403          일성파크    84.96  202311          72,000  1996  20231211  광진구\n",
      "404       구의현대하이엘     59.4  202311          69,500  2005            광진구\n",
      "405        더샵스타시티   135.61  202311         185,000  2007            광진구\n",
      "406        더샵스타시티   119.41  202311         175,000  2007            광진구\n",
      "407        우방리버파크    59.87  202311         110,000  2003  20231222  광진구\n",
      "408           우성1    79.75  202311         114,000  1988            광진구\n",
      "409           우성2    64.79  202311          94,000  1989  20231201  광진구\n",
      "\n",
      "구: 구로구\n",
      "          단지명 전용면적(㎡)    계약년월        거래금액(만원)  건축년도      등기일자    구\n",
      "410       우성2   64.79  202311          85,000  1989  20231215  구로구\n",
      "411  이튼타워리버2차   84.96  202311         119,500  2006            구로구\n",
      "412  이튼타워리버5차  128.39  202311         195,000  2009            구로구\n",
      "413     자양현대5   59.72  202311          89,000  1998            구로구\n",
      "414     자양현대6   84.97  202311         115,000  1999            구로구\n",
      "..        ...     ...     ...             ...   ...       ...  ...\n",
      "493       우성2   84.82  202311          85,000  1996            구로구\n",
      "494       우성3   84.75  202311          99,000  1993            구로구\n",
      "495    경남아너스빌   59.98  202311          59,500  2003            구로구\n",
      "496   금강(343)  60.054  202311          67,750  2003            구로구\n",
      "497   금강(343)  84.983  202311          95,000  2003            구로구\n",
      "\n",
      "[85 rows x 7 columns]\n",
      "\n",
      "구: 금천구\n",
      "                      단지명   전용면적(㎡)    계약년월        거래금액(만원)  건축년도      등기일자  \\\n",
      "498               금강(343)    60.054  202311          60,000  2003  20231128   \n",
      "499                  동부골든     84.96  202311          60,300  1998             \n",
      "500                영풍마드레빌    84.741  202311          66,800  2002             \n",
      "501                 우창굿모닝     84.94  202311          36,500  2004             \n",
      "502                  이좋은집     36.69  202311          22,500  2005             \n",
      "504               한신플러스타운     59.91  202311          50,000  2002             \n",
      "505               온수힐스테이트     59.98  202311          73,000  2010  20231120   \n",
      "506               온수힐스테이트     84.99  202311          76,000  2010             \n",
      "507               하버라인2단지     74.85  202311          69,000  2019             \n",
      "508               하버라인3단지     84.88  202311          78,900  2019             \n",
      "509       항동중흥에스클래스베르데카운티  147.9822  202311         102,000  2019  20231108   \n",
      "510       항동중흥에스클래스베르데카운티   84.9416  202311          84,000  2019             \n",
      "511             가산양우내안에애플     12.04  202311          10,200  2013  20231121   \n",
      "512          금천롯데캐슬골드파크1차   84.3963  202311         111,000  2016             \n",
      "513  금천롯데캐슬골드파크2차201동202동     84.95  202311         105,500  2017             \n",
      "514          금천롯데캐슬골드파크3차   59.9662  202311          87,500  2018  20231120   \n",
      "515                  금천현대     59.82  202311          52,500  2002             \n",
      "516                  금천현대     84.83  202311          66,500  2002             \n",
      "517                 대덕트윈빌     59.56  202311          50,000  2002             \n",
      "518             독산동중앙하이츠빌   84.8768  202311          65,000  2004             \n",
      "519              독산오르페움타워    37.806  202311          32,000  2020  20231109   \n",
      "520              독산주공14단지     38.64  202311          30,000  1990             \n",
      "521                   라이프     74.72  202311          48,000  1996             \n",
      "522                 리버스타운     59.13  202311          39,000  2016  20231128   \n",
      "523                 목화102     63.42  202311          38,000  1997             \n",
      "524                 세심아파트     83.48  202311          40,000  2004             \n",
      "525                이랜드해가든    84.935  202311          73,000  2008  20231208   \n",
      "526                 중앙아파트     35.61  202311          21,400  1989  20231212   \n",
      "528                청광플러스원    84.962  202311          58,000  2003             \n",
      "529              관악산벽산타운5     84.97  202311          59,000  2004  20231219   \n",
      "\n",
      "       구  \n",
      "498  금천구  \n",
      "499  금천구  \n",
      "500  금천구  \n",
      "501  금천구  \n",
      "502  금천구  \n",
      "504  금천구  \n",
      "505  금천구  \n",
      "506  금천구  \n",
      "507  금천구  \n",
      "508  금천구  \n",
      "509  금천구  \n",
      "510  금천구  \n",
      "511  금천구  \n",
      "512  금천구  \n",
      "513  금천구  \n",
      "514  금천구  \n",
      "515  금천구  \n",
      "516  금천구  \n",
      "517  금천구  \n",
      "518  금천구  \n",
      "519  금천구  \n",
      "520  금천구  \n",
      "521  금천구  \n",
      "522  금천구  \n",
      "523  금천구  \n",
      "524  금천구  \n",
      "525  금천구  \n",
      "526  금천구  \n",
      "528  금천구  \n",
      "529  금천구  \n",
      "\n",
      "구: 노원구\n",
      "          단지명  전용면적(㎡)    계약년월        거래금액(만원)  건축년도      등기일자    구\n",
      "530  관악산신도브래뉴     84.8  202311          62,500  2006            노원구\n",
      "531    남서울건영2    61.14  202311          44,800  1989            노원구\n",
      "532    남서울건영2    41.34  202311          32,000  1989            노원구\n",
      "533  남서울힐스테이트   84.786  202311          80,000  2014            노원구\n",
      "534  남서울힐스테이트  115.801  202311         103,000  2014            노원구\n",
      "..        ...      ...     ...             ...   ...       ...  ...\n",
      "680   중계그린1단지    39.78  202311          45,000  1990  20231213  노원구\n",
      "681   중계그린1단지    39.78  202311          42,900  1990            노원구\n",
      "682   중계그린1단지    39.78  202311          37,000  1990  20231207  노원구\n",
      "683   중계그린1단지    39.78  202311          42,000  1990            노원구\n",
      "684   중계그린1단지    59.87  202311          55,000  1990            노원구\n",
      "\n",
      "[153 rows x 7 columns]\n",
      "\n",
      "구: 도봉구\n",
      "         단지명 전용면적(㎡)    계약년월        거래금액(만원)  건축년도      등기일자    구\n",
      "685  중계그린1단지    49.5  202311          51,000  1990            도봉구\n",
      "686    중계무지개   49.89  202311          48,800  1991            도봉구\n",
      "688    중계무지개   49.54  202311          52,200  1991            도봉구\n",
      "689    중계무지개   49.54  202311          52,000  1991            도봉구\n",
      "690    중계무지개   39.82  202311          41,000  1991            도봉구\n",
      "..       ...     ...     ...             ...   ...       ...  ...\n",
      "744     대우그린   59.97  202311          58,000  2000            도봉구\n",
      "745   동도센트리움  80.722  202311          64,500  2009            도봉구\n",
      "746       동아   89.45  202311          73,500  1988            도봉구\n",
      "747     동아청솔   59.96  202311          64,500  1997            도봉구\n",
      "748     동아청솔   59.76  202311          59,000  1997  20231124  도봉구\n",
      "\n",
      "[63 rows x 7 columns]\n",
      "\n",
      "구: 동대문구\n",
      "            단지명  전용면적(㎡)    계약년월        거래금액(만원)  건축년도      등기일자     구\n",
      "749   북한산아이파크5차  84.4516  202311          79,000  2004            동대문구\n",
      "750       삼성래미안    84.87  202311          70,000  1992  20231220  동대문구\n",
      "751          쌍용    84.76  202311          82,500  1997            동대문구\n",
      "752      주공17단지    36.34  202311          31,000  1989  20231109  동대문구\n",
      "753      주공17단지    36.16  202311          35,000  1989            동대문구\n",
      "..          ...      ...     ...             ...   ...       ...   ...\n",
      "835       상록파라브    77.29  202311          54,000  2007  20231219  동대문구\n",
      "836   성림(390-5)       71  202311          40,000  2003            동대문구\n",
      "837  신부파스카(563)    84.99  202311          65,000  2005            동대문구\n",
      "838      장안푸르미에  12.9463  202311          12,200  2013  20231108  동대문구\n",
      "839      장안푸르미에  12.9463  202311          12,000  2013  20231108  동대문구\n",
      "\n",
      "[89 rows x 7 columns]\n",
      "\n",
      "구: 동작구\n",
      "                 단지명  전용면적(㎡)    계약년월        거래금액(만원)  건축년도      등기일자    구\n",
      "840             장안현대    95.44  202311          71,500  1984            동작구\n",
      "841     장안현대홈타운(336)    84.87  202311          80,000  2003  20231124  동작구\n",
      "842     장안현대홈타운(336)    84.87  202311          88,000  2003            동작구\n",
      "843          장안힐스테이트   59.928  202311          78,000  2007            동작구\n",
      "844          장안힐스테이트   59.885  202311          76,000  2007            동작구\n",
      "845         청명에버아트1차    50.86  202311          35,000  2017            동작구\n",
      "846            한신아파트     84.9  202311          62,000  1996  20231212  동작구\n",
      "847          래미안크레시티    59.99  202311         105,000  2014            동작구\n",
      "848          래미안크레시티    59.99  202311         103,000  2014  20231213  동작구\n",
      "849             전농SK    59.96  202311          72,800  2000  20231109  동작구\n",
      "850            한신아파트    59.84  202311          72,000  2004            동작구\n",
      "851               미주   124.76  202311         123,700  1978            동작구\n",
      "852               한신   114.95  202311          85,000  1997            동작구\n",
      "853             홍릉동부   114.91  202311          95,000  2001            동작구\n",
      "854           베라체캠퍼스   24.011  202311          25,000  2013            동작구\n",
      "855           베라체캠퍼스   24.319  202311          25,000  2013            동작구\n",
      "856              주공1   114.73  202311          87,500  2001  20231212  동작구\n",
      "857              주공2    59.79  202311          63,000  2001            동작구\n",
      "858               현대    84.94  202311          58,000  1992            동작구\n",
      "859          메가스터디타워    16.01  202311          17,000  2015            동작구\n",
      "860          메가스터디타워    16.01  202311          16,700  2015            동작구\n",
      "861          신동아리버파크    84.88  202311          99,500  2001  20231220  동작구\n",
      "862          신동아리버파크    59.67  202311          80,000  2001            동작구\n",
      "863               우성   124.77  202311         105,700  1997            동작구\n",
      "864            대림아파트   134.25  202311         169,000  1993            동작구\n",
      "865            대림아파트    59.84  202311          99,700  1993            동작구\n",
      "866            대림아파트    84.92  202311         120,000  1993            동작구\n",
      "867       대방1차e-편한세상    84.32  202311         123,000  2003            동작구\n",
      "868            대방동현대    59.84  202311          80,000  1994            동작구\n",
      "869            대방동현대    84.96  202311          89,500  1994            동작구\n",
      "870               삼인    83.28  202311          63,000  2004            동작구\n",
      "872           신일해피트리  59.8165  202311          81,500  2005            동작구\n",
      "873           신일해피트리  59.8165  202311          91,500  2005            동작구\n",
      "874          이수힐스테이트   59.998  202311         125,000  2013            동작구\n",
      "875          이수힐스테이트  59.9415  202311         122,500  2013            동작구\n",
      "876              신동아    104.7  202311         103,000  1993  20231214  동작구\n",
      "877          극동(105)    46.75  202311          68,500  1993            동작구\n",
      "878         사당롯데캐슬2차  114.369  202311         127,000  2004            동작구\n",
      "879             사당자이    59.89  202311          80,000  1999            동작구\n",
      "880  사당휴브리지(206-127)    12.42  202311          15,200  2015  20231130  동작구\n",
      "881            삼성래미안   84.967  202311          97,500  2003            동작구\n",
      "882             신동아4    59.89  202311          94,000  1993            동작구\n",
      "883            진흥아리엘  84.9871  202311          67,000  2004            동작구\n",
      "884               백경    65.45  202311          47,000  2002            동작구\n",
      "885               건영     32.8  202311          56,000  1997  20231214  동작구\n",
      "886           상도두산위브   84.911  202311         115,000  2010            동작구\n",
      "887           상도파크자이   72.328  202311         127,500  2016  20231215  동작구\n",
      "888            상도팰리스    84.86  202311          76,000  2006            동작구\n",
      "889             상도현대    84.97  202311          58,000  2003            동작구\n",
      "890             상도현대    59.72  202311          69,000  2003            동작구\n",
      "891           상도휴엔하임     14.7  202311          14,300  2016  20231214  동작구\n",
      "892           상도휴엔하임     14.7  202311          13,900  2016            동작구\n",
      "893           씨티아모리움  14.1881  202311          13,000  2012  20231130  동작구\n",
      "894           씨티아모리움  14.1881  202311          12,000  2012  20231124  동작구\n",
      "\n",
      "구: 마포구\n",
      "                단지명  전용면적(㎡)    계약년월        거래금액(만원)  건축년도      등기일자    구\n",
      "895              중앙    65.76  202311          39,300  2002  20231205  마포구\n",
      "896           포스코더샵    59.99  202311         106,500  2007            마포구\n",
      "897           포스코더샵    59.99  202311         104,500  2007            마포구\n",
      "898  힐스테이트 상도 프레스티지   84.951  202311         100,500  2013  20231207  마포구\n",
      "899           롯데낙천대  55.4561  202311          77,000  2003            마포구\n",
      "..              ...      ...     ...             ...   ...       ...  ...\n",
      "954  신공덕1차삼성래미안1아파트     84.9  202311         130,000  2000            마포구\n",
      "955        신공덕래미안2차    114.5  202311         119,500  2000            마포구\n",
      "956           대원칸타빌   84.873  202311         114,000  2004            마포구\n",
      "957            신촌삼익    59.85  202311          92,700  1997  20231220  마포구\n",
      "958         신촌숲아이파크   59.751  202311         135,000  2019            마포구\n",
      "\n",
      "[62 rows x 7 columns]\n",
      "\n",
      "구: 서대문구\n",
      "                       단지명   전용면적(㎡)    계약년월        거래금액(만원)  건축년도      등기일자  \\\n",
      "959                   서강GS     59.98  202311          95,500  1999  20231127   \n",
      "960           마포래미안푸르지오2단지   84.3884  202311         180,000  2014             \n",
      "961             마포센트럴 아이파크  111.1083  202311         176,000  2017             \n",
      "962              마포트라팰리스2차     99.56  202311         116,000  2008             \n",
      "963                 삼환나띠르빌      84.9  202311         100,000  2003             \n",
      "964                    새마을     41.65  202311          47,000  1970             \n",
      "965                   마포자이    84.692  202311         169,000  2003             \n",
      "966                   마포자이    84.692  202311         184,000  2003             \n",
      "967   마포자이더센트리지(102동~112동)     59.99  202311         130,000  2022             \n",
      "968              마포프레스티지자이   59.7848  202311         145,500  2021             \n",
      "969              마포프레스티지자이   59.7848  202311         154,300  2021             \n",
      "970                염리삼성래미안    114.48  202311         140,000  2001             \n",
      "971            e편한세상마포리버파크     84.98  202311         189,000  2016             \n",
      "972            백명TRENDYAPT    107.48  202311          76,000  2004             \n",
      "973                     현대     59.55  202311          68,000  2000  20231212   \n",
      "974                   서강예가     84.74  202311         123,700  2007             \n",
      "975             서강오벨리스크스위트     84.96  202311          97,000  2007             \n",
      "976                   한강삼성     84.96  202311         135,500  1997             \n",
      "977             마포한강2차푸르지오     83.45  202311         155,000  2016             \n",
      "978                강변힐스테이트     84.85  202311         126,000  2004             \n",
      "979                강변힐스테이트     84.85  202311         130,000  2004             \n",
      "980                래미안웰스트림     84.98  202311         188,000  2016  20231205   \n",
      "981             DMC센트럴아이파크     84.94  202311         114,000  2018             \n",
      "982                DMC에코자이    59.442  202311          96,000  2019             \n",
      "983            DMC파크뷰자이1단지    84.971  202311         120,000  2015             \n",
      "984            DMC파크뷰자이1단지    84.971  202311         132,000  2015             \n",
      "985            DMC파크뷰자이2단지    84.968  202311         117,000  2015             \n",
      "986            DMC파크뷰자이2단지     84.99  202311         120,000  2015             \n",
      "987                  디엠씨엘가     13.03  202311          14,000  2017  20231218   \n",
      "988               래미안남가좌2차   114.793  202311         123,000  2005             \n",
      "989               래미안남가좌2차   114.793  202311         122,000  2005             \n",
      "990                래미안루센티아     84.83  202311         118,000  2020             \n",
      "991                  창덕에버빌     99.57  202311          69,500  1998  20231124   \n",
      "993                 동부센트레빌     59.86  202311          70,000  2002             \n",
      "994                   신촌럭키     83.38  202311          92,500  1999  20231208   \n",
      "995            DMC래미안e편한세상     84.95  202311         119,000  2012             \n",
      "996             e편한세상신촌1단지     59.85  202311         121,000  2018             \n",
      "997             e편한세상신촌1단지     59.85  202311         123,500  2018  20231129   \n",
      "998             e편한세상신촌1단지     84.93  202311         142,000  2018             \n",
      "999             e편한세상신촌1단지     59.85  202311         123,000  2018             \n",
      "1000            e편한세상신촌1단지     84.95  202311         145,000  2018             \n",
      "1001            e편한세상신촌1단지     59.85  202311         122,000  2018             \n",
      "1002            e편한세상신촌2단지    114.89  202311         185,000  2018             \n",
      "1004                    두산     59.96  202311          78,000  1999  20231221   \n",
      "1005                    두산     59.96  202311          68,000  1999             \n",
      "1006              연희웨스트팰리스     26.88  202311          25,000  2014  20231215   \n",
      "1007              연희웨스트팰리스     26.88  202311          25,500  2014  20231205   \n",
      "1008              연희파크푸르지오   59.9835  202311          83,300  2018             \n",
      "1009                   파크빌     79.83  202311          53,000  2003             \n",
      "1010             홍연(723-9)     52.23  202311          39,000  1981             \n",
      "1011                  연대JK     29.13  202311          22,500  2012  20231221   \n",
      "\n",
      "         구  \n",
      "959   서대문구  \n",
      "960   서대문구  \n",
      "961   서대문구  \n",
      "962   서대문구  \n",
      "963   서대문구  \n",
      "964   서대문구  \n",
      "965   서대문구  \n",
      "966   서대문구  \n",
      "967   서대문구  \n",
      "968   서대문구  \n",
      "969   서대문구  \n",
      "970   서대문구  \n",
      "971   서대문구  \n",
      "972   서대문구  \n",
      "973   서대문구  \n",
      "974   서대문구  \n",
      "975   서대문구  \n",
      "976   서대문구  \n",
      "977   서대문구  \n",
      "978   서대문구  \n",
      "979   서대문구  \n",
      "980   서대문구  \n",
      "981   서대문구  \n",
      "982   서대문구  \n",
      "983   서대문구  \n",
      "984   서대문구  \n",
      "985   서대문구  \n",
      "986   서대문구  \n",
      "987   서대문구  \n",
      "988   서대문구  \n",
      "989   서대문구  \n",
      "990   서대문구  \n",
      "991   서대문구  \n",
      "993   서대문구  \n",
      "994   서대문구  \n",
      "995   서대문구  \n",
      "996   서대문구  \n",
      "997   서대문구  \n",
      "998   서대문구  \n",
      "999   서대문구  \n",
      "1000  서대문구  \n",
      "1001  서대문구  \n",
      "1002  서대문구  \n",
      "1004  서대문구  \n",
      "1005  서대문구  \n",
      "1006  서대문구  \n",
      "1007  서대문구  \n",
      "1008  서대문구  \n",
      "1009  서대문구  \n",
      "1010  서대문구  \n",
      "1011  서대문구  \n",
      "\n",
      "구: 서초구\n",
      "               단지명 전용면적(㎡)    계약년월        거래금액(만원)  건축년도      등기일자    구\n",
      "1012  독립문극동(200-0)  102.45  202311         110,000  1998  20231207  서초구\n",
      "1013            동일   84.98  202311          62,000  1997            서초구\n",
      "1014         북한산더샵  59.899  202311          83,000  2017            서초구\n",
      "1015       북한산두산위브   84.98  202311          87,000  2020            서초구\n",
      "1016       북한산두산위브   59.84  202311          72,000  2020            서초구\n",
      "...            ...     ...     ...             ...   ...       ...  ...\n",
      "1077     서초극동스타클래스    84.3  202311         153,000  2003            서초구\n",
      "1078     서초극동스타클래스    84.3  202311         120,000  2003            서초구\n",
      "1079       서초대우아이빌  37.777  202311          31,500  2003            서초구\n",
      "1080        서초한빛삼성   59.52  202311         150,000  1999            서초구\n",
      "1081        서초한빛삼성   99.09  202311         180,000  1999            서초구\n",
      "\n",
      "[68 rows x 7 columns]\n",
      "\n",
      "구: 성동구\n",
      "             단지명  전용면적(㎡)    계약년월        거래금액(만원)  건축년도      등기일자    구\n",
      "1082      아크로비스타   151.61  202311         277,000  2004            성동구\n",
      "1083       우정에쉐르    84.84  202311         154,500  2004            성동구\n",
      "1084       월드빌라트   244.76  202311         325,000  1996            성동구\n",
      "1085        유원서초    84.82  202311         189,700  1993            성동구\n",
      "1086    풍림아이원플러스   35.903  202311          35,900  2004            성동구\n",
      "...          ...      ...     ...             ...   ...       ...  ...\n",
      "1157  래미안 옥수 리버젠    59.25  202311         137,000  2012            성동구\n",
      "1158  래미안 옥수 리버젠    84.81  202311         175,000  2012            성동구\n",
      "1159          삼성  114.666  202311         165,000  1999  20231124  성동구\n",
      "1160          삼성     59.7  202311         119,000  1999            성동구\n",
      "1161          삼성     59.7  202311         114,500  1999            성동구\n",
      "\n",
      "[79 rows x 7 columns]\n",
      "\n",
      "구: 성북구\n",
      "                  단지명 전용면적(㎡)    계약년월        거래금액(만원)  건축년도      등기일자    구\n",
      "1162           옥수이테크빌   84.37  202311          98,000  2002            성북구\n",
      "1163  옥수파크힐스101동~116동    84.3  202311         175,000  2016            성북구\n",
      "1164  옥수파크힐스101동~116동   59.78  202311         153,000  2016            성북구\n",
      "1165  옥수파크힐스101동~116동    84.3  202311         185,000  2016            성북구\n",
      "1166  옥수파크힐스101동~116동   84.51  202311         170,000  2016            성북구\n",
      "...               ...     ...     ...             ...   ...       ...  ...\n",
      "1289         정릉e-편한세상      85  202311          72,000  2006            성북구\n",
      "1290           정릉푸르지오   59.98  202311          59,000  2005            성북구\n",
      "1291          정릉풍림아이원   59.88  202311          45,700  2005  20231103  성북구\n",
      "1292          정릉풍림아이원      60  202311          52,000  2005            성북구\n",
      "1293          정릉풍림아이원   59.88  202311          47,500  2005            성북구\n",
      "\n",
      "[130 rows x 7 columns]\n",
      "\n",
      "구: 송파구\n",
      "                 단지명  전용면적(㎡)    계약년월        거래금액(만원)  건축년도      등기일자    구\n",
      "1294         정릉풍림아이원   114.75  202311          75,000  2005            송파구\n",
      "1295         정릉풍림아이원    59.88  202311          48,500  2005  20231204  송파구\n",
      "1296         정릉풍림아이원    84.09  202311          60,000  2005            송파구\n",
      "1297         정릉풍림아이원    59.88  202311          47,500  2005            송파구\n",
      "1298         정릉풍림아이원    59.88  202311          50,000  2005            송파구\n",
      "...              ...      ...     ...             ...   ...       ...  ...\n",
      "1393         상아2차아파트    45.77  202311          78,000  1988            송파구\n",
      "1394  에스아이팰리스송파올림픽공원     31.6  202311          59,000  2021            송파구\n",
      "1395            현대백조       31  202311          59,000  1997            송파구\n",
      "1396            현대백조       31  202311          60,000  1997            송파구\n",
      "1397         갤러리아팰리스  123.291  202311         240,000  2005            송파구\n",
      "\n",
      "[101 rows x 7 columns]\n",
      "\n",
      "구: 양천구\n",
      "           단지명  전용면적(㎡)    계약년월        거래금액(만원)  건축년도      등기일자    구\n",
      "1399   갤러리아팰리스  163.935  202311         344,000  2005            양천구\n",
      "1400    레이크팰리스    84.82  202311         221,500  2006            양천구\n",
      "1401    레이크팰리스   136.74  202311         270,000  2006            양천구\n",
      "1402       리센츠    27.68  202311          94,000  2008  20231221  양천구\n",
      "1403       리센츠    84.99  202311         250,000  2008            양천구\n",
      "...        ...      ...     ...             ...   ...       ...  ...\n",
      "1506  목동신시가지12    71.64  202311         148,000  1988            양천구\n",
      "1507  목동신시가지13   124.55  202311         216,000  1987            양천구\n",
      "1508  목동신시가지13    70.73  202311         148,000  1987            양천구\n",
      "1509  목동신시가지13   124.55  202311         209,000  1987            양천구\n",
      "1510  목동신시가지14    55.02  202311         122,000  1987            양천구\n",
      "\n",
      "[111 rows x 7 columns]\n",
      "\n",
      "구: 영등포구\n",
      "             단지명  전용면적(㎡)    계약년월        거래금액(만원)  건축년도      등기일자     구\n",
      "1511    목동신시가지14   108.28  202311         196,000  1987            영등포구\n",
      "1512     목동신시가지8    54.94  202311         130,000  1987            영등포구\n",
      "1513     목동신시가지8    54.94  202311         126,000  1987            영등포구\n",
      "1514     목동신시가지8    54.94  202311         132,000  1987            영등포구\n",
      "1515     목동신시가지8    54.94  202311         125,000  1987            영등포구\n",
      "...          ...      ...     ...             ...   ...       ...   ...\n",
      "1593  신길센트럴자이아파트    84.98  202311         123,000  2021  20231220  영등포구\n",
      "1594         우성2     64.4  202311          80,000  1986            영등포구\n",
      "1595          우창     55.9  202311          74,500  1983            영등포구\n",
      "1596      포레나 신길  84.5802  202311          97,000  2008            영등포구\n",
      "1597   힐스테이트클래시안    59.91  202311         117,000  2020            영등포구\n",
      "\n",
      "[85 rows x 7 columns]\n",
      "\n",
      "구: 용산구\n",
      "             단지명  전용면적(㎡)    계약년월        거래금액(만원)  건축년도      등기일자    구\n",
      "1598        한신공영   115.07  202311          70,000  1996            용산구\n",
      "1599      경남아너스빌    84.92  202311          89,000  1998            용산구\n",
      "1600      양평현대6차    59.98  202311          88,000  2000            용산구\n",
      "1601      양평현대6차    84.92  202311          97,000  2000            용산구\n",
      "1602      양평현대6차    84.94  202311          97,800  2000            용산구\n",
      "1603          성원    84.66  202311          81,000  1993            용산구\n",
      "1604          약산    36.55  202311          17,000  1984            용산구\n",
      "1605        양평한신    84.87  202311         106,000  1996            용산구\n",
      "1606        양평한신    59.94  202311          85,000  1996            용산구\n",
      "1607    선유도삼성홈타운    42.98  202311          37,500  2015  20231130  용산구\n",
      "1608          대교     95.5  202311         207,500  1975            용산구\n",
      "1609          대교   133.65  202311         250,000  1975            용산구\n",
      "1610    대우트럼프월드Ⅰ    178.5  202311         280,000  2002            용산구\n",
      "1611     롯데캐슬아이비   103.86  202311         150,000  2005            용산구\n",
      "1612        리버타워   234.02  202311         185,000  2000            용산구\n",
      "1613        리첸시아   119.21  202311         226,000  2003            용산구\n",
      "1614          시범    79.24  202311         199,000  1971            용산구\n",
      "1615          시범    79.24  202311         198,000  1971            용산구\n",
      "1616       여의도자이   210.38  202311         392,000  2008            용산구\n",
      "1617       여의도자이   163.64  202311         295,000  2008            용산구\n",
      "1618          진주    63.83  202311         141,439  1977            용산구\n",
      "1619          한양   109.42  202311         220,000  1975            용산구\n",
      "1620        라르파크  30.3116  202311          50,000  2021            용산구\n",
      "1621     영등포푸르지오   79.777  202311         103,500  2002            용산구\n",
      "1622     영등포푸르지오   79.777  202311         107,500  2002            용산구\n",
      "1623    여의도이튼브라운    28.86  202311          43,500  2022  20231213  용산구\n",
      "1624  여의도리미티오148  24.3859  202311          38,821  2022            용산구\n",
      "1625  여의도리미티오148   38.441  202311          62,377  2022            용산구\n",
      "1626  여의도리미티오148   38.441  202311          66,364  2022  20231130  용산구\n",
      "1627  여의도리미티오148  24.3859  202311          37,646  2022  20231208  용산구\n",
      "1628      경남아너스빌     59.9  202311          89,000  1998            용산구\n",
      "1629    브라운스톤영등포     84.9  202311          86,000  2004            용산구\n",
      "1630          삼성    69.12  202311          54,000  2003            용산구\n",
      "1631    아크로타워스퀘어     59.7  202311         124,000  2017            용산구\n",
      "1632    아크로타워스퀘어     59.7  202311         121,000  2017            용산구\n",
      "1634    아크로타워스퀘어    84.69  202311         151,000  2017            용산구\n",
      "1635         제일1    45.29  202311          35,000  1971  20231220  용산구\n",
      "\n",
      "구: 은평구\n",
      "                단지명 전용면적(㎡)    계약년월        거래금액(만원)  건축년도      등기일자    구\n",
      "1636           힐하우스  218.48  202311         235,000  2001  20231130  은평구\n",
      "1637       이안용산프리미어  109.74  202311         138,000  2007            은평구\n",
      "1638         프라임펠리스   13.69  202311          16,700  2012  20231211  은평구\n",
      "1639          리버힐삼성   59.55  202311         100,000  2001            은평구\n",
      "1640        용산e편한세상   84.89  202311         185,000  2011            은평구\n",
      "...             ...     ...     ...             ...   ...       ...  ...\n",
      "1699    DMC롯데캐슬더퍼스트  114.95  202311         146,000  2021            은평구\n",
      "1700       DMC자이1단지  123.67  202311         119,000  2009  20231122  은평구\n",
      "1701       DMC자이1단지  134.91  202311         130,000  2009  20231123  은평구\n",
      "1702  e편한세상 수색 에코포레  84.951  202311          65,000  2003  20231211  은평구\n",
      "1703  e편한세상 수색 에코포레  59.895  202311          59,000  2003            은평구\n",
      "\n",
      "[66 rows x 7 columns]\n",
      "\n",
      "구: 종로구\n",
      "             단지명 전용면적(㎡)    계약년월        거래금액(만원)  건축년도      등기일자    구\n",
      "1704       거성리젠시   46.56  202311          49,800  2023  20231124  종로구\n",
      "1705       거성리젠시   31.99  202311          37,000  2023            종로구\n",
      "1706       거성리젠시   31.99  202311          37,800  2023            종로구\n",
      "1708        신사씨티   82.71  202311          47,000  1993  20231206  종로구\n",
      "1711      유한베스트빌   84.96  202311          46,000  2002            종로구\n",
      "1712          홍익   59.94  202311          39,000  1995            종로구\n",
      "1713         아이언  74.805  202311          45,000  2004  20231220  종로구\n",
      "1714     프라우드아파트   84.87  202311          44,500  2004            종로구\n",
      "1715    e편한세상백련산   59.98  202311          71,500  2022            종로구\n",
      "1716      경원파발리안   70.36  202311          52,800  2009            종로구\n",
      "1717  녹번역e편한세상캐슬   84.92  202311         108,000  2021            종로구\n",
      "1718  녹번역e편한세상캐슬   59.96  202311          95,300  2021            종로구\n",
      "1719  녹번역e편한세상캐슬   59.96  202311          85,500  2021            종로구\n",
      "1721     녹번역센트레빌  114.98  202311          90,100  2013  20231108  종로구\n",
      "1722       대주피오레   59.66  202311          53,000  2003            종로구\n",
      "1723      백련산해모로   59.93  202311          72,500  2020            종로구\n",
      "1724  백련산힐스테이트1차   84.21  202311          87,000  2011            종로구\n",
      "\n",
      "구: 중구\n",
      "                            단지명  전용면적(㎡)    계약년월        거래금액(만원)  건축년도  \\\n",
      "1725                 백련산힐스테이트2차    84.37  202311          78,000  2011   \n",
      "1726                 백련산힐스테이트2차    84.59  202311          72,000  2011   \n",
      "1727                    위산일리온시티    19.42  202311          24,250  2020   \n",
      "1728                     응암하이포롬    84.99  202311          56,000  2003   \n",
      "1729                         청록    70.08  202311          38,000  1998   \n",
      "1731                       펠리시티    55.69  202311          58,900  2022   \n",
      "1732                   힐스테이트녹번역    59.99  202311          95,000  2022   \n",
      "1733                   힐스테이트녹번역    84.99  202311         121,000  2022   \n",
      "1734               DMC문영퀸즈파크아파트    84.92  202311          59,500  2004   \n",
      "1735              DMC센트럴자이(2단지)    59.97  202311         112,000  2023   \n",
      "1736              DMC센트럴자이(3단지)    84.97  202311         149,000  2023   \n",
      "1737                      DMC우방    59.91  202311          72,500  2000   \n",
      "1738                         두성    61.41  202311          49,500  2003   \n",
      "1739                         인우    92.32  202311          64,000  2003   \n",
      "1740                         인우    92.32  202311          60,000  2003   \n",
      "1741  마고정3단지센트레빌(310~322동)BL2-3    59.71  202311          64,500  2009   \n",
      "1742  마고정3단지센트레빌(323~335동)BL2-2    84.04  202311          99,500  2009   \n",
      "1743  마고정3단지센트레빌(323~335동)BL2-2    84.14  202311          91,000  2009   \n",
      "1744      은평뉴타운 제각말 푸르지오(5-4단지)    84.89  202311          80,500  2010   \n",
      "1745               은평뉴타운기자촌11단지    84.82  202311          77,000  2015   \n",
      "1746                  은평뉴타운꿈에그린    59.98  202311          67,000  2018   \n",
      "1747                   은평뉴타운엘크루    59.98  202311          67,900  2017   \n",
      "1748        광화문스페이스본(101동~105동)   108.07  202311         155,000  2008   \n",
      "1749        광화문스페이스본(101동~105동)   159.01  202311         200,000  2008   \n",
      "1750                    롯데캐슬천지인   111.73  202311         112,000  2004   \n",
      "1751                    삼전솔하임2차    14.69  202311          11,000  2012   \n",
      "1752                     익성씨티하임    15.42  202311          11,700  2013   \n",
      "1753                   종로유케이201    12.09  202311          10,500  2013   \n",
      "1754                  종로청계힐스테이트  59.9426  202311          80,000  2009   \n",
      "1755                      이화에수풀    16.98  202311          18,800  2014   \n",
      "1756                      이화에수풀    16.98  202311          18,700  2014   \n",
      "1757                     현대뜨레비앙    46.64  202311          39,500  2003   \n",
      "1758                    효성쥬얼리시티   106.81  202311         115,000  2006   \n",
      "1759                    효성쥬얼리시티     84.7  202311          90,000  2006   \n",
      "\n",
      "          등기일자   구  \n",
      "1725            중구  \n",
      "1726  20231215  중구  \n",
      "1727            중구  \n",
      "1728            중구  \n",
      "1729  20231122  중구  \n",
      "1731            중구  \n",
      "1732            중구  \n",
      "1733            중구  \n",
      "1734            중구  \n",
      "1735            중구  \n",
      "1736            중구  \n",
      "1737            중구  \n",
      "1738            중구  \n",
      "1739            중구  \n",
      "1740  20231220  중구  \n",
      "1741            중구  \n",
      "1742  20231213  중구  \n",
      "1743  20231220  중구  \n",
      "1744            중구  \n",
      "1745            중구  \n",
      "1746            중구  \n",
      "1747  20231201  중구  \n",
      "1748            중구  \n",
      "1749            중구  \n",
      "1750            중구  \n",
      "1751  20231130  중구  \n",
      "1752  20231102  중구  \n",
      "1753  20231113  중구  \n",
      "1754            중구  \n",
      "1755  20231204  중구  \n",
      "1756            중구  \n",
      "1757            중구  \n",
      "1758            중구  \n",
      "1759  20231207  중구  \n",
      "\n",
      "구: 중랑구\n",
      "                  단지명   전용면적(㎡)    계약년월        거래금액(만원)  건축년도      등기일자    구\n",
      "1760               두산      84.9  202311          97,000  1999  20231207  중랑구\n",
      "1761          브라운스톤창신     84.67  202311          78,000  2006            중랑구\n",
      "1762            창신쌍용1      54.7  202311          58,000  1992  20231220  중랑구\n",
      "1763            창신쌍용2      54.7  202311          58,500  1993            중랑구\n",
      "1764            창신쌍용2     64.66  202311          58,000  1993            중랑구\n",
      "1765       경희궁자이(3단지)   59.8547  202311         150,500  2017            중랑구\n",
      "1766            대성아파트     30.28  202311          26,000  1971            중랑구\n",
      "1767       경희궁자이(2단지)   84.8359  202311         200,000  2017            중랑구\n",
      "1768       경희궁자이(2단지)  101.9914  202311         248,000  2017            중랑구\n",
      "1769          남산트라팰리스    142.23  202311         248,000  2010            중랑구\n",
      "1770         서울역센트럴자이   84.9791  202311         159,000  2017            중랑구\n",
      "1771         서울역센트럴자이    84.972  202311         160,000  2017            중랑구\n",
      "1772             남산타운     84.88  202311          78,000  2002  20231204  중랑구\n",
      "1773             남산타운     59.94  202311         102,500  2002            중랑구\n",
      "1774             남산타운    114.88  202311         130,500  2002            중랑구\n",
      "1775             남산타운     59.94  202311          92,000  2002            중랑구\n",
      "1776             남산타운    114.88  202311         128,000  2002            중랑구\n",
      "1777          래미안하이베르     84.85  202311         105,000  2011            중랑구\n",
      "1778         신당동파라다이스     84.77  202311          75,500  2000  20231214  중랑구\n",
      "1779         신당동파라다이스      59.9  202311          60,000  2000  20231124  중랑구\n",
      "1780           약수역더시티     18.86  202311          28,000  2021  20231211  중랑구\n",
      "1781           약수역더시티      18.3  202311          26,000  2021            중랑구\n",
      "1782           약수역더시티     18.86  202311          25,200  2021            중랑구\n",
      "1783            약수하이츠     57.63  202311          93,500  1999            중랑구\n",
      "1784            약수하이츠     65.37  202311          99,900  1999            중랑구\n",
      "1786      인현상가(신성아파트)     76.96  202311          55,700  1968  20231214  중랑구\n",
      "1787               장충     31.24  202311          12,500  1981  20231215  중랑구\n",
      "1788         삼성사이버빌리지     59.93  202311         118,500  2001            중랑구\n",
      "1789             진양상가     71.93  202311          54,500  1970            중랑구\n",
      "1790            골드캐슬Ⅲ      29.7  202311          31,000  2017            중랑구\n",
      "1791            골드캐슬Ⅲ     33.47  202311          31,000  2017            중랑구\n",
      "1792             롯데캐슬     59.91  202311          82,000  2008            중랑구\n",
      "1793             롯데캐슬     59.94  202311          76,500  2008            중랑구\n",
      "1794             롯데캐슬     59.94  202311          84,000  2008            중랑구\n",
      "1797             롯데캐슬     84.92  202311          99,000  2008  20231201  중랑구\n",
      "1798  위너빌(Winnervill)     28.55  202311          35,500  2018  20231117  중랑구\n",
      "1799  위너빌(Winnervill)     29.87  202311          35,500  2018  20231129  중랑구\n",
      "1800  위너빌(Winnervill)     29.87  202311          35,500  2018  20231129  중랑구\n",
      "1801  위너빌(Winnervill)     29.79  202311          35,500  2018  20231129  중랑구\n",
      "1802        한양I-Class     16.37  202311          13,200  2013  20231130  중랑구\n",
      "1803         쌍용남산플래티넘       177  202311         270,000  2010            중랑구\n",
      "1805         쌍용남산플래티넘       177  202311         220,000  2010            중랑구\n",
      "1806              aaa     69.39  202311          58,000  1994  20231214  중랑구\n",
      "1807      청계천두산위브더제니스  147.3212  202311         159,000  2014            중랑구\n",
      "1808     EGSoulLeader     13.42  202311          13,500  2012  20231113  중랑구\n",
      "1809             더하이어   12.0156  202311          14,500  2013  20231113  중랑구\n",
      "1810               신원     84.12  202311          39,000  1999            중랑구\n",
      "1811               천보      62.5  202311          32,000  2002            중랑구\n",
      "1812           경남아너스빌    84.961  202311          70,000  2006            중랑구\n",
      "1813            늘푸른동아     84.97  202311          72,500  2002            중랑구\n"
     ]
    }
   ],
   "source": [
    "# 구 별로 groupby\n",
    "df1 = df.groupby('구')\n",
    "\n",
    "for Gu, Gu_df in df1:\n",
    "  print(f\"\\n구: {Gu}\")\n",
    "  print(Gu_df)"
   ]
  },
  {
   "cell_type": "code",
   "execution_count": 12,
   "metadata": {},
   "outputs": [],
   "source": [
    "# 구 별 거래금액 평균 구하기\n",
    "\n",
    "df['거래금액(만원)'] = df['거래금액(만원)'].str.replace(',','').astype(int)\n",
    "plt1 = df.groupby('구')['거래금액(만원)'].mean()"
   ]
  },
  {
   "cell_type": "code",
   "execution_count": 13,
   "metadata": {},
   "outputs": [
    {
     "data": {
      "text/plain": [
       "구\n",
       "강남구     208509.813084\n",
       "강동구      95126.395349\n",
       "강북구      61194.444444\n",
       "강서구      68852.631579\n",
       "관악구      65067.441860\n",
       "광진구     124582.352941\n",
       "구로구      64340.000000\n",
       "금천구      58853.333333\n",
       "노원구      58489.869281\n",
       "도봉구      49341.269841\n",
       "동대문구     50269.662921\n",
       "동작구      76722.222222\n",
       "마포구     108517.741935\n",
       "서대문구    111927.450980\n",
       "서초구     170214.264706\n",
       "성동구     165965.822785\n",
       "성북구      88825.092308\n",
       "송파구     119477.722772\n",
       "양천구     154359.459459\n",
       "영등포구    110930.588235\n",
       "용산구     126539.108108\n",
       "은평구     144114.363636\n",
       "종로구      62458.823529\n",
       "중구       74095.588235\n",
       "중랑구      86670.000000\n",
       "평균      100217.818542\n",
       "Name: 거래금액(만원), dtype: float64"
      ]
     },
     "execution_count": 13,
     "metadata": {},
     "output_type": "execute_result"
    }
   ],
   "source": [
    "plt1.loc['평균'] = plt1.mean()\n",
    "plt1"
   ]
  },
  {
   "cell_type": "code",
   "execution_count": 14,
   "metadata": {},
   "outputs": [
    {
     "data": {
      "application/vnd.plotly.v1+json": {
       "config": {
        "plotlyServerURL": "https://plot.ly"
       },
       "data": [
        {
         "alignmentgroup": "True",
         "hovertemplate": "구=%{x}<br>=%{y}<extra></extra>",
         "legendgroup": "",
         "marker": {
          "color": "blue",
          "pattern": {
           "shape": ""
          }
         },
         "name": "",
         "offsetgroup": "",
         "orientation": "v",
         "showlegend": false,
         "textposition": "auto",
         "type": "bar",
         "x": [
          "강남구",
          "강동구",
          "강북구",
          "강서구",
          "관악구",
          "광진구",
          "구로구",
          "금천구",
          "노원구",
          "도봉구",
          "동대문구",
          "동작구",
          "마포구",
          "서대문구",
          "서초구",
          "성동구",
          "성북구",
          "송파구",
          "양천구",
          "영등포구",
          "용산구",
          "은평구",
          "종로구",
          "중구",
          "중랑구"
         ],
         "xaxis": "x",
         "y": [
          20.850981308411217,
          9.512639534883721,
          6.1194444444444445,
          6.885263157894737,
          6.506744186046512,
          12.458235294117648,
          6.434,
          5.8853333333333335,
          5.848986928104575,
          4.934126984126984,
          5.026966292134832,
          7.672222222222222,
          10.851774193548387,
          11.192745098039216,
          17.021426470588235,
          16.596582278481012,
          8.88250923076923,
          11.947772277227722,
          15.435945945945948,
          11.093058823529411,
          12.65391081081081,
          14.411436363636364,
          6.245882352941176,
          7.409558823529411,
          8.667
         ],
         "yaxis": "y"
        },
        {
         "alignmentgroup": "True",
         "hovertemplate": "구=%{x}<br>=%{y}<extra></extra>",
         "legendgroup": "",
         "marker": {
          "color": "red",
          "pattern": {
           "shape": ""
          }
         },
         "name": "",
         "offsetgroup": "",
         "orientation": "v",
         "showlegend": false,
         "textposition": "auto",
         "type": "bar",
         "x": [
          "평균"
         ],
         "xaxis": "x",
         "y": [
          10.021781854190687
         ],
         "yaxis": "y"
        }
       ],
       "layout": {
        "barmode": "relative",
        "legend": {
         "tracegroupgap": 0
        },
        "template": {
         "data": {
          "bar": [
           {
            "error_x": {
             "color": "#2a3f5f"
            },
            "error_y": {
             "color": "#2a3f5f"
            },
            "marker": {
             "line": {
              "color": "#E5ECF6",
              "width": 0.5
             },
             "pattern": {
              "fillmode": "overlay",
              "size": 10,
              "solidity": 0.2
             }
            },
            "type": "bar"
           }
          ],
          "barpolar": [
           {
            "marker": {
             "line": {
              "color": "#E5ECF6",
              "width": 0.5
             },
             "pattern": {
              "fillmode": "overlay",
              "size": 10,
              "solidity": 0.2
             }
            },
            "type": "barpolar"
           }
          ],
          "carpet": [
           {
            "aaxis": {
             "endlinecolor": "#2a3f5f",
             "gridcolor": "white",
             "linecolor": "white",
             "minorgridcolor": "white",
             "startlinecolor": "#2a3f5f"
            },
            "baxis": {
             "endlinecolor": "#2a3f5f",
             "gridcolor": "white",
             "linecolor": "white",
             "minorgridcolor": "white",
             "startlinecolor": "#2a3f5f"
            },
            "type": "carpet"
           }
          ],
          "choropleth": [
           {
            "colorbar": {
             "outlinewidth": 0,
             "ticks": ""
            },
            "type": "choropleth"
           }
          ],
          "contour": [
           {
            "colorbar": {
             "outlinewidth": 0,
             "ticks": ""
            },
            "colorscale": [
             [
              0,
              "#0d0887"
             ],
             [
              0.1111111111111111,
              "#46039f"
             ],
             [
              0.2222222222222222,
              "#7201a8"
             ],
             [
              0.3333333333333333,
              "#9c179e"
             ],
             [
              0.4444444444444444,
              "#bd3786"
             ],
             [
              0.5555555555555556,
              "#d8576b"
             ],
             [
              0.6666666666666666,
              "#ed7953"
             ],
             [
              0.7777777777777778,
              "#fb9f3a"
             ],
             [
              0.8888888888888888,
              "#fdca26"
             ],
             [
              1,
              "#f0f921"
             ]
            ],
            "type": "contour"
           }
          ],
          "contourcarpet": [
           {
            "colorbar": {
             "outlinewidth": 0,
             "ticks": ""
            },
            "type": "contourcarpet"
           }
          ],
          "heatmap": [
           {
            "colorbar": {
             "outlinewidth": 0,
             "ticks": ""
            },
            "colorscale": [
             [
              0,
              "#0d0887"
             ],
             [
              0.1111111111111111,
              "#46039f"
             ],
             [
              0.2222222222222222,
              "#7201a8"
             ],
             [
              0.3333333333333333,
              "#9c179e"
             ],
             [
              0.4444444444444444,
              "#bd3786"
             ],
             [
              0.5555555555555556,
              "#d8576b"
             ],
             [
              0.6666666666666666,
              "#ed7953"
             ],
             [
              0.7777777777777778,
              "#fb9f3a"
             ],
             [
              0.8888888888888888,
              "#fdca26"
             ],
             [
              1,
              "#f0f921"
             ]
            ],
            "type": "heatmap"
           }
          ],
          "heatmapgl": [
           {
            "colorbar": {
             "outlinewidth": 0,
             "ticks": ""
            },
            "colorscale": [
             [
              0,
              "#0d0887"
             ],
             [
              0.1111111111111111,
              "#46039f"
             ],
             [
              0.2222222222222222,
              "#7201a8"
             ],
             [
              0.3333333333333333,
              "#9c179e"
             ],
             [
              0.4444444444444444,
              "#bd3786"
             ],
             [
              0.5555555555555556,
              "#d8576b"
             ],
             [
              0.6666666666666666,
              "#ed7953"
             ],
             [
              0.7777777777777778,
              "#fb9f3a"
             ],
             [
              0.8888888888888888,
              "#fdca26"
             ],
             [
              1,
              "#f0f921"
             ]
            ],
            "type": "heatmapgl"
           }
          ],
          "histogram": [
           {
            "marker": {
             "pattern": {
              "fillmode": "overlay",
              "size": 10,
              "solidity": 0.2
             }
            },
            "type": "histogram"
           }
          ],
          "histogram2d": [
           {
            "colorbar": {
             "outlinewidth": 0,
             "ticks": ""
            },
            "colorscale": [
             [
              0,
              "#0d0887"
             ],
             [
              0.1111111111111111,
              "#46039f"
             ],
             [
              0.2222222222222222,
              "#7201a8"
             ],
             [
              0.3333333333333333,
              "#9c179e"
             ],
             [
              0.4444444444444444,
              "#bd3786"
             ],
             [
              0.5555555555555556,
              "#d8576b"
             ],
             [
              0.6666666666666666,
              "#ed7953"
             ],
             [
              0.7777777777777778,
              "#fb9f3a"
             ],
             [
              0.8888888888888888,
              "#fdca26"
             ],
             [
              1,
              "#f0f921"
             ]
            ],
            "type": "histogram2d"
           }
          ],
          "histogram2dcontour": [
           {
            "colorbar": {
             "outlinewidth": 0,
             "ticks": ""
            },
            "colorscale": [
             [
              0,
              "#0d0887"
             ],
             [
              0.1111111111111111,
              "#46039f"
             ],
             [
              0.2222222222222222,
              "#7201a8"
             ],
             [
              0.3333333333333333,
              "#9c179e"
             ],
             [
              0.4444444444444444,
              "#bd3786"
             ],
             [
              0.5555555555555556,
              "#d8576b"
             ],
             [
              0.6666666666666666,
              "#ed7953"
             ],
             [
              0.7777777777777778,
              "#fb9f3a"
             ],
             [
              0.8888888888888888,
              "#fdca26"
             ],
             [
              1,
              "#f0f921"
             ]
            ],
            "type": "histogram2dcontour"
           }
          ],
          "mesh3d": [
           {
            "colorbar": {
             "outlinewidth": 0,
             "ticks": ""
            },
            "type": "mesh3d"
           }
          ],
          "parcoords": [
           {
            "line": {
             "colorbar": {
              "outlinewidth": 0,
              "ticks": ""
             }
            },
            "type": "parcoords"
           }
          ],
          "pie": [
           {
            "automargin": true,
            "type": "pie"
           }
          ],
          "scatter": [
           {
            "fillpattern": {
             "fillmode": "overlay",
             "size": 10,
             "solidity": 0.2
            },
            "type": "scatter"
           }
          ],
          "scatter3d": [
           {
            "line": {
             "colorbar": {
              "outlinewidth": 0,
              "ticks": ""
             }
            },
            "marker": {
             "colorbar": {
              "outlinewidth": 0,
              "ticks": ""
             }
            },
            "type": "scatter3d"
           }
          ],
          "scattercarpet": [
           {
            "marker": {
             "colorbar": {
              "outlinewidth": 0,
              "ticks": ""
             }
            },
            "type": "scattercarpet"
           }
          ],
          "scattergeo": [
           {
            "marker": {
             "colorbar": {
              "outlinewidth": 0,
              "ticks": ""
             }
            },
            "type": "scattergeo"
           }
          ],
          "scattergl": [
           {
            "marker": {
             "colorbar": {
              "outlinewidth": 0,
              "ticks": ""
             }
            },
            "type": "scattergl"
           }
          ],
          "scattermapbox": [
           {
            "marker": {
             "colorbar": {
              "outlinewidth": 0,
              "ticks": ""
             }
            },
            "type": "scattermapbox"
           }
          ],
          "scatterpolar": [
           {
            "marker": {
             "colorbar": {
              "outlinewidth": 0,
              "ticks": ""
             }
            },
            "type": "scatterpolar"
           }
          ],
          "scatterpolargl": [
           {
            "marker": {
             "colorbar": {
              "outlinewidth": 0,
              "ticks": ""
             }
            },
            "type": "scatterpolargl"
           }
          ],
          "scatterternary": [
           {
            "marker": {
             "colorbar": {
              "outlinewidth": 0,
              "ticks": ""
             }
            },
            "type": "scatterternary"
           }
          ],
          "surface": [
           {
            "colorbar": {
             "outlinewidth": 0,
             "ticks": ""
            },
            "colorscale": [
             [
              0,
              "#0d0887"
             ],
             [
              0.1111111111111111,
              "#46039f"
             ],
             [
              0.2222222222222222,
              "#7201a8"
             ],
             [
              0.3333333333333333,
              "#9c179e"
             ],
             [
              0.4444444444444444,
              "#bd3786"
             ],
             [
              0.5555555555555556,
              "#d8576b"
             ],
             [
              0.6666666666666666,
              "#ed7953"
             ],
             [
              0.7777777777777778,
              "#fb9f3a"
             ],
             [
              0.8888888888888888,
              "#fdca26"
             ],
             [
              1,
              "#f0f921"
             ]
            ],
            "type": "surface"
           }
          ],
          "table": [
           {
            "cells": {
             "fill": {
              "color": "#EBF0F8"
             },
             "line": {
              "color": "white"
             }
            },
            "header": {
             "fill": {
              "color": "#C8D4E3"
             },
             "line": {
              "color": "white"
             }
            },
            "type": "table"
           }
          ]
         },
         "layout": {
          "annotationdefaults": {
           "arrowcolor": "#2a3f5f",
           "arrowhead": 0,
           "arrowwidth": 1
          },
          "autotypenumbers": "strict",
          "coloraxis": {
           "colorbar": {
            "outlinewidth": 0,
            "ticks": ""
           }
          },
          "colorscale": {
           "diverging": [
            [
             0,
             "#8e0152"
            ],
            [
             0.1,
             "#c51b7d"
            ],
            [
             0.2,
             "#de77ae"
            ],
            [
             0.3,
             "#f1b6da"
            ],
            [
             0.4,
             "#fde0ef"
            ],
            [
             0.5,
             "#f7f7f7"
            ],
            [
             0.6,
             "#e6f5d0"
            ],
            [
             0.7,
             "#b8e186"
            ],
            [
             0.8,
             "#7fbc41"
            ],
            [
             0.9,
             "#4d9221"
            ],
            [
             1,
             "#276419"
            ]
           ],
           "sequential": [
            [
             0,
             "#0d0887"
            ],
            [
             0.1111111111111111,
             "#46039f"
            ],
            [
             0.2222222222222222,
             "#7201a8"
            ],
            [
             0.3333333333333333,
             "#9c179e"
            ],
            [
             0.4444444444444444,
             "#bd3786"
            ],
            [
             0.5555555555555556,
             "#d8576b"
            ],
            [
             0.6666666666666666,
             "#ed7953"
            ],
            [
             0.7777777777777778,
             "#fb9f3a"
            ],
            [
             0.8888888888888888,
             "#fdca26"
            ],
            [
             1,
             "#f0f921"
            ]
           ],
           "sequentialminus": [
            [
             0,
             "#0d0887"
            ],
            [
             0.1111111111111111,
             "#46039f"
            ],
            [
             0.2222222222222222,
             "#7201a8"
            ],
            [
             0.3333333333333333,
             "#9c179e"
            ],
            [
             0.4444444444444444,
             "#bd3786"
            ],
            [
             0.5555555555555556,
             "#d8576b"
            ],
            [
             0.6666666666666666,
             "#ed7953"
            ],
            [
             0.7777777777777778,
             "#fb9f3a"
            ],
            [
             0.8888888888888888,
             "#fdca26"
            ],
            [
             1,
             "#f0f921"
            ]
           ]
          },
          "colorway": [
           "#636efa",
           "#EF553B",
           "#00cc96",
           "#ab63fa",
           "#FFA15A",
           "#19d3f3",
           "#FF6692",
           "#B6E880",
           "#FF97FF",
           "#FECB52"
          ],
          "font": {
           "color": "#2a3f5f"
          },
          "geo": {
           "bgcolor": "white",
           "lakecolor": "white",
           "landcolor": "#E5ECF6",
           "showlakes": true,
           "showland": true,
           "subunitcolor": "white"
          },
          "hoverlabel": {
           "align": "left"
          },
          "hovermode": "closest",
          "mapbox": {
           "style": "light"
          },
          "paper_bgcolor": "white",
          "plot_bgcolor": "#E5ECF6",
          "polar": {
           "angularaxis": {
            "gridcolor": "white",
            "linecolor": "white",
            "ticks": ""
           },
           "bgcolor": "#E5ECF6",
           "radialaxis": {
            "gridcolor": "white",
            "linecolor": "white",
            "ticks": ""
           }
          },
          "scene": {
           "xaxis": {
            "backgroundcolor": "#E5ECF6",
            "gridcolor": "white",
            "gridwidth": 2,
            "linecolor": "white",
            "showbackground": true,
            "ticks": "",
            "zerolinecolor": "white"
           },
           "yaxis": {
            "backgroundcolor": "#E5ECF6",
            "gridcolor": "white",
            "gridwidth": 2,
            "linecolor": "white",
            "showbackground": true,
            "ticks": "",
            "zerolinecolor": "white"
           },
           "zaxis": {
            "backgroundcolor": "#E5ECF6",
            "gridcolor": "white",
            "gridwidth": 2,
            "linecolor": "white",
            "showbackground": true,
            "ticks": "",
            "zerolinecolor": "white"
           }
          },
          "shapedefaults": {
           "line": {
            "color": "#2a3f5f"
           }
          },
          "ternary": {
           "aaxis": {
            "gridcolor": "white",
            "linecolor": "white",
            "ticks": ""
           },
           "baxis": {
            "gridcolor": "white",
            "linecolor": "white",
            "ticks": ""
           },
           "bgcolor": "#E5ECF6",
           "caxis": {
            "gridcolor": "white",
            "linecolor": "white",
            "ticks": ""
           }
          },
          "title": {
           "x": 0.05
          },
          "xaxis": {
           "automargin": true,
           "gridcolor": "white",
           "linecolor": "white",
           "ticks": "",
           "title": {
            "standoff": 15
           },
           "zerolinecolor": "white",
           "zerolinewidth": 2
          },
          "yaxis": {
           "automargin": true,
           "gridcolor": "white",
           "linecolor": "white",
           "ticks": "",
           "title": {
            "standoff": 15
           },
           "zerolinecolor": "white",
           "zerolinewidth": 2
          }
         }
        },
        "title": {
         "text": "서울시 각 구별 아파트 가격 (단위 : 억)"
        },
        "xaxis": {
         "anchor": "y",
         "domain": [
          0,
          1
         ],
         "title": {
          "text": "구"
         }
        },
        "yaxis": {
         "anchor": "x",
         "domain": [
          0,
          1
         ],
         "title": {
          "text": ""
         }
        }
       }
      }
     },
     "metadata": {},
     "output_type": "display_data"
    }
   ],
   "source": [
    "# 색상 목록 생성: '평균'을 제외한 모든 막대는 같은 색, '평균' 막대는 다른 색\n",
    "colors = ['blue' if x != '평균' else 'red' for x in plt1.index]\n",
    "\n",
    "# 막대그래프 생성\n",
    "fig = px.bar(\n",
    "    x=plt1.index,\n",
    "    y=plt1.values/10000,\n",
    "    title='서울시 각 구별 아파트 가격 (단위 : 억)',\n",
    "    labels={'x':'구', 'y':''},\n",
    "    color=colors,  # 색상 목록 사용\n",
    "    color_discrete_map=\"identity\"  # 제공된 색상을 직접 사용하도록 설정\n",
    ")\n",
    "\n",
    "# 그래프 표시\n",
    "fig.show()"
   ]
  },
  {
   "cell_type": "code",
   "execution_count": 15,
   "metadata": {},
   "outputs": [
    {
     "data": {
      "text/plain": [
       "구\n",
       "강남구     208509.813084\n",
       "광진구     124582.352941\n",
       "마포구     108517.741935\n",
       "서대문구    111927.450980\n",
       "서초구     170214.264706\n",
       "성동구     165965.822785\n",
       "송파구     119477.722772\n",
       "양천구     154359.459459\n",
       "영등포구    110930.588235\n",
       "용산구     126539.108108\n",
       "은평구     144114.363636\n",
       "Name: 거래금액(만원), dtype: float64"
      ]
     },
     "execution_count": 15,
     "metadata": {},
     "output_type": "execute_result"
    }
   ],
   "source": [
    "above_average = plt1[plt1 > plt1.loc['평균']]\n",
    "\n",
    "above_average"
   ]
  },
  {
   "cell_type": "code",
   "execution_count": 16,
   "metadata": {},
   "outputs": [
    {
     "data": {
      "text/plain": [
       "구\n",
       "강동구     95126.395349\n",
       "강북구     61194.444444\n",
       "강서구     68852.631579\n",
       "관악구     65067.441860\n",
       "구로구     64340.000000\n",
       "금천구     58853.333333\n",
       "노원구     58489.869281\n",
       "도봉구     49341.269841\n",
       "동대문구    50269.662921\n",
       "동작구     76722.222222\n",
       "성북구     88825.092308\n",
       "종로구     62458.823529\n",
       "중구      74095.588235\n",
       "중랑구     86670.000000\n",
       "Name: 거래금액(만원), dtype: float64"
      ]
     },
     "execution_count": 16,
     "metadata": {},
     "output_type": "execute_result"
    }
   ],
   "source": [
    "below_average = plt1[plt1 < plt1.loc['평균']]\n",
    "\n",
    "below_average"
   ]
  },
  {
   "cell_type": "code",
   "execution_count": 19,
   "metadata": {},
   "outputs": [
    {
     "data": {
      "application/vnd.plotly.v1+json": {
       "config": {
        "plotlyServerURL": "https://plot.ly"
       },
       "data": [
        {
         "alignmentgroup": "True",
         "hovertemplate": "구=%{x}<br>=%{y}<extra></extra>",
         "legendgroup": "",
         "marker": {
          "color": "#636efa",
          "pattern": {
           "shape": ""
          }
         },
         "name": "",
         "offsetgroup": "",
         "orientation": "v",
         "showlegend": false,
         "textposition": "auto",
         "type": "bar",
         "x": [
          "강남구",
          "광진구",
          "마포구",
          "서대문구",
          "서초구",
          "성동구",
          "송파구",
          "양천구",
          "영등포구",
          "용산구",
          "은평구"
         ],
         "xaxis": "x",
         "y": [
          20.850981308411217,
          12.458235294117648,
          10.851774193548387,
          11.192745098039216,
          17.021426470588235,
          16.596582278481012,
          11.947772277227722,
          15.435945945945948,
          11.093058823529411,
          12.65391081081081,
          14.411436363636364
         ],
         "yaxis": "y"
        }
       ],
       "layout": {
        "barmode": "relative",
        "legend": {
         "tracegroupgap": 0
        },
        "template": {
         "data": {
          "bar": [
           {
            "error_x": {
             "color": "#2a3f5f"
            },
            "error_y": {
             "color": "#2a3f5f"
            },
            "marker": {
             "line": {
              "color": "#E5ECF6",
              "width": 0.5
             },
             "pattern": {
              "fillmode": "overlay",
              "size": 10,
              "solidity": 0.2
             }
            },
            "type": "bar"
           }
          ],
          "barpolar": [
           {
            "marker": {
             "line": {
              "color": "#E5ECF6",
              "width": 0.5
             },
             "pattern": {
              "fillmode": "overlay",
              "size": 10,
              "solidity": 0.2
             }
            },
            "type": "barpolar"
           }
          ],
          "carpet": [
           {
            "aaxis": {
             "endlinecolor": "#2a3f5f",
             "gridcolor": "white",
             "linecolor": "white",
             "minorgridcolor": "white",
             "startlinecolor": "#2a3f5f"
            },
            "baxis": {
             "endlinecolor": "#2a3f5f",
             "gridcolor": "white",
             "linecolor": "white",
             "minorgridcolor": "white",
             "startlinecolor": "#2a3f5f"
            },
            "type": "carpet"
           }
          ],
          "choropleth": [
           {
            "colorbar": {
             "outlinewidth": 0,
             "ticks": ""
            },
            "type": "choropleth"
           }
          ],
          "contour": [
           {
            "colorbar": {
             "outlinewidth": 0,
             "ticks": ""
            },
            "colorscale": [
             [
              0,
              "#0d0887"
             ],
             [
              0.1111111111111111,
              "#46039f"
             ],
             [
              0.2222222222222222,
              "#7201a8"
             ],
             [
              0.3333333333333333,
              "#9c179e"
             ],
             [
              0.4444444444444444,
              "#bd3786"
             ],
             [
              0.5555555555555556,
              "#d8576b"
             ],
             [
              0.6666666666666666,
              "#ed7953"
             ],
             [
              0.7777777777777778,
              "#fb9f3a"
             ],
             [
              0.8888888888888888,
              "#fdca26"
             ],
             [
              1,
              "#f0f921"
             ]
            ],
            "type": "contour"
           }
          ],
          "contourcarpet": [
           {
            "colorbar": {
             "outlinewidth": 0,
             "ticks": ""
            },
            "type": "contourcarpet"
           }
          ],
          "heatmap": [
           {
            "colorbar": {
             "outlinewidth": 0,
             "ticks": ""
            },
            "colorscale": [
             [
              0,
              "#0d0887"
             ],
             [
              0.1111111111111111,
              "#46039f"
             ],
             [
              0.2222222222222222,
              "#7201a8"
             ],
             [
              0.3333333333333333,
              "#9c179e"
             ],
             [
              0.4444444444444444,
              "#bd3786"
             ],
             [
              0.5555555555555556,
              "#d8576b"
             ],
             [
              0.6666666666666666,
              "#ed7953"
             ],
             [
              0.7777777777777778,
              "#fb9f3a"
             ],
             [
              0.8888888888888888,
              "#fdca26"
             ],
             [
              1,
              "#f0f921"
             ]
            ],
            "type": "heatmap"
           }
          ],
          "heatmapgl": [
           {
            "colorbar": {
             "outlinewidth": 0,
             "ticks": ""
            },
            "colorscale": [
             [
              0,
              "#0d0887"
             ],
             [
              0.1111111111111111,
              "#46039f"
             ],
             [
              0.2222222222222222,
              "#7201a8"
             ],
             [
              0.3333333333333333,
              "#9c179e"
             ],
             [
              0.4444444444444444,
              "#bd3786"
             ],
             [
              0.5555555555555556,
              "#d8576b"
             ],
             [
              0.6666666666666666,
              "#ed7953"
             ],
             [
              0.7777777777777778,
              "#fb9f3a"
             ],
             [
              0.8888888888888888,
              "#fdca26"
             ],
             [
              1,
              "#f0f921"
             ]
            ],
            "type": "heatmapgl"
           }
          ],
          "histogram": [
           {
            "marker": {
             "pattern": {
              "fillmode": "overlay",
              "size": 10,
              "solidity": 0.2
             }
            },
            "type": "histogram"
           }
          ],
          "histogram2d": [
           {
            "colorbar": {
             "outlinewidth": 0,
             "ticks": ""
            },
            "colorscale": [
             [
              0,
              "#0d0887"
             ],
             [
              0.1111111111111111,
              "#46039f"
             ],
             [
              0.2222222222222222,
              "#7201a8"
             ],
             [
              0.3333333333333333,
              "#9c179e"
             ],
             [
              0.4444444444444444,
              "#bd3786"
             ],
             [
              0.5555555555555556,
              "#d8576b"
             ],
             [
              0.6666666666666666,
              "#ed7953"
             ],
             [
              0.7777777777777778,
              "#fb9f3a"
             ],
             [
              0.8888888888888888,
              "#fdca26"
             ],
             [
              1,
              "#f0f921"
             ]
            ],
            "type": "histogram2d"
           }
          ],
          "histogram2dcontour": [
           {
            "colorbar": {
             "outlinewidth": 0,
             "ticks": ""
            },
            "colorscale": [
             [
              0,
              "#0d0887"
             ],
             [
              0.1111111111111111,
              "#46039f"
             ],
             [
              0.2222222222222222,
              "#7201a8"
             ],
             [
              0.3333333333333333,
              "#9c179e"
             ],
             [
              0.4444444444444444,
              "#bd3786"
             ],
             [
              0.5555555555555556,
              "#d8576b"
             ],
             [
              0.6666666666666666,
              "#ed7953"
             ],
             [
              0.7777777777777778,
              "#fb9f3a"
             ],
             [
              0.8888888888888888,
              "#fdca26"
             ],
             [
              1,
              "#f0f921"
             ]
            ],
            "type": "histogram2dcontour"
           }
          ],
          "mesh3d": [
           {
            "colorbar": {
             "outlinewidth": 0,
             "ticks": ""
            },
            "type": "mesh3d"
           }
          ],
          "parcoords": [
           {
            "line": {
             "colorbar": {
              "outlinewidth": 0,
              "ticks": ""
             }
            },
            "type": "parcoords"
           }
          ],
          "pie": [
           {
            "automargin": true,
            "type": "pie"
           }
          ],
          "scatter": [
           {
            "fillpattern": {
             "fillmode": "overlay",
             "size": 10,
             "solidity": 0.2
            },
            "type": "scatter"
           }
          ],
          "scatter3d": [
           {
            "line": {
             "colorbar": {
              "outlinewidth": 0,
              "ticks": ""
             }
            },
            "marker": {
             "colorbar": {
              "outlinewidth": 0,
              "ticks": ""
             }
            },
            "type": "scatter3d"
           }
          ],
          "scattercarpet": [
           {
            "marker": {
             "colorbar": {
              "outlinewidth": 0,
              "ticks": ""
             }
            },
            "type": "scattercarpet"
           }
          ],
          "scattergeo": [
           {
            "marker": {
             "colorbar": {
              "outlinewidth": 0,
              "ticks": ""
             }
            },
            "type": "scattergeo"
           }
          ],
          "scattergl": [
           {
            "marker": {
             "colorbar": {
              "outlinewidth": 0,
              "ticks": ""
             }
            },
            "type": "scattergl"
           }
          ],
          "scattermapbox": [
           {
            "marker": {
             "colorbar": {
              "outlinewidth": 0,
              "ticks": ""
             }
            },
            "type": "scattermapbox"
           }
          ],
          "scatterpolar": [
           {
            "marker": {
             "colorbar": {
              "outlinewidth": 0,
              "ticks": ""
             }
            },
            "type": "scatterpolar"
           }
          ],
          "scatterpolargl": [
           {
            "marker": {
             "colorbar": {
              "outlinewidth": 0,
              "ticks": ""
             }
            },
            "type": "scatterpolargl"
           }
          ],
          "scatterternary": [
           {
            "marker": {
             "colorbar": {
              "outlinewidth": 0,
              "ticks": ""
             }
            },
            "type": "scatterternary"
           }
          ],
          "surface": [
           {
            "colorbar": {
             "outlinewidth": 0,
             "ticks": ""
            },
            "colorscale": [
             [
              0,
              "#0d0887"
             ],
             [
              0.1111111111111111,
              "#46039f"
             ],
             [
              0.2222222222222222,
              "#7201a8"
             ],
             [
              0.3333333333333333,
              "#9c179e"
             ],
             [
              0.4444444444444444,
              "#bd3786"
             ],
             [
              0.5555555555555556,
              "#d8576b"
             ],
             [
              0.6666666666666666,
              "#ed7953"
             ],
             [
              0.7777777777777778,
              "#fb9f3a"
             ],
             [
              0.8888888888888888,
              "#fdca26"
             ],
             [
              1,
              "#f0f921"
             ]
            ],
            "type": "surface"
           }
          ],
          "table": [
           {
            "cells": {
             "fill": {
              "color": "#EBF0F8"
             },
             "line": {
              "color": "white"
             }
            },
            "header": {
             "fill": {
              "color": "#C8D4E3"
             },
             "line": {
              "color": "white"
             }
            },
            "type": "table"
           }
          ]
         },
         "layout": {
          "annotationdefaults": {
           "arrowcolor": "#2a3f5f",
           "arrowhead": 0,
           "arrowwidth": 1
          },
          "autotypenumbers": "strict",
          "coloraxis": {
           "colorbar": {
            "outlinewidth": 0,
            "ticks": ""
           }
          },
          "colorscale": {
           "diverging": [
            [
             0,
             "#8e0152"
            ],
            [
             0.1,
             "#c51b7d"
            ],
            [
             0.2,
             "#de77ae"
            ],
            [
             0.3,
             "#f1b6da"
            ],
            [
             0.4,
             "#fde0ef"
            ],
            [
             0.5,
             "#f7f7f7"
            ],
            [
             0.6,
             "#e6f5d0"
            ],
            [
             0.7,
             "#b8e186"
            ],
            [
             0.8,
             "#7fbc41"
            ],
            [
             0.9,
             "#4d9221"
            ],
            [
             1,
             "#276419"
            ]
           ],
           "sequential": [
            [
             0,
             "#0d0887"
            ],
            [
             0.1111111111111111,
             "#46039f"
            ],
            [
             0.2222222222222222,
             "#7201a8"
            ],
            [
             0.3333333333333333,
             "#9c179e"
            ],
            [
             0.4444444444444444,
             "#bd3786"
            ],
            [
             0.5555555555555556,
             "#d8576b"
            ],
            [
             0.6666666666666666,
             "#ed7953"
            ],
            [
             0.7777777777777778,
             "#fb9f3a"
            ],
            [
             0.8888888888888888,
             "#fdca26"
            ],
            [
             1,
             "#f0f921"
            ]
           ],
           "sequentialminus": [
            [
             0,
             "#0d0887"
            ],
            [
             0.1111111111111111,
             "#46039f"
            ],
            [
             0.2222222222222222,
             "#7201a8"
            ],
            [
             0.3333333333333333,
             "#9c179e"
            ],
            [
             0.4444444444444444,
             "#bd3786"
            ],
            [
             0.5555555555555556,
             "#d8576b"
            ],
            [
             0.6666666666666666,
             "#ed7953"
            ],
            [
             0.7777777777777778,
             "#fb9f3a"
            ],
            [
             0.8888888888888888,
             "#fdca26"
            ],
            [
             1,
             "#f0f921"
            ]
           ]
          },
          "colorway": [
           "#636efa",
           "#EF553B",
           "#00cc96",
           "#ab63fa",
           "#FFA15A",
           "#19d3f3",
           "#FF6692",
           "#B6E880",
           "#FF97FF",
           "#FECB52"
          ],
          "font": {
           "color": "#2a3f5f"
          },
          "geo": {
           "bgcolor": "white",
           "lakecolor": "white",
           "landcolor": "#E5ECF6",
           "showlakes": true,
           "showland": true,
           "subunitcolor": "white"
          },
          "hoverlabel": {
           "align": "left"
          },
          "hovermode": "closest",
          "mapbox": {
           "style": "light"
          },
          "paper_bgcolor": "white",
          "plot_bgcolor": "#E5ECF6",
          "polar": {
           "angularaxis": {
            "gridcolor": "white",
            "linecolor": "white",
            "ticks": ""
           },
           "bgcolor": "#E5ECF6",
           "radialaxis": {
            "gridcolor": "white",
            "linecolor": "white",
            "ticks": ""
           }
          },
          "scene": {
           "xaxis": {
            "backgroundcolor": "#E5ECF6",
            "gridcolor": "white",
            "gridwidth": 2,
            "linecolor": "white",
            "showbackground": true,
            "ticks": "",
            "zerolinecolor": "white"
           },
           "yaxis": {
            "backgroundcolor": "#E5ECF6",
            "gridcolor": "white",
            "gridwidth": 2,
            "linecolor": "white",
            "showbackground": true,
            "ticks": "",
            "zerolinecolor": "white"
           },
           "zaxis": {
            "backgroundcolor": "#E5ECF6",
            "gridcolor": "white",
            "gridwidth": 2,
            "linecolor": "white",
            "showbackground": true,
            "ticks": "",
            "zerolinecolor": "white"
           }
          },
          "shapedefaults": {
           "line": {
            "color": "#2a3f5f"
           }
          },
          "ternary": {
           "aaxis": {
            "gridcolor": "white",
            "linecolor": "white",
            "ticks": ""
           },
           "baxis": {
            "gridcolor": "white",
            "linecolor": "white",
            "ticks": ""
           },
           "bgcolor": "#E5ECF6",
           "caxis": {
            "gridcolor": "white",
            "linecolor": "white",
            "ticks": ""
           }
          },
          "title": {
           "x": 0.05
          },
          "xaxis": {
           "automargin": true,
           "gridcolor": "white",
           "linecolor": "white",
           "ticks": "",
           "title": {
            "standoff": 15
           },
           "zerolinecolor": "white",
           "zerolinewidth": 2
          },
          "yaxis": {
           "automargin": true,
           "gridcolor": "white",
           "linecolor": "white",
           "ticks": "",
           "title": {
            "standoff": 15
           },
           "zerolinecolor": "white",
           "zerolinewidth": 2
          }
         }
        },
        "title": {
         "text": "서울시 평균 이상 구 아파트 가격 (단위 : 억)"
        },
        "xaxis": {
         "anchor": "y",
         "domain": [
          0,
          1
         ],
         "title": {
          "text": "구"
         }
        },
        "yaxis": {
         "anchor": "x",
         "domain": [
          0,
          1
         ],
         "title": {
          "text": ""
         }
        }
       }
      }
     },
     "metadata": {},
     "output_type": "display_data"
    }
   ],
   "source": [
    "fig = px.bar(\n",
    "    x=above_average.index,\n",
    "    y=above_average.values/10000,\n",
    "    title='서울시 평균 이상 구 아파트 가격 (단위 : 억)',\n",
    "    labels={'x':'구', 'y':''},\n",
    ")\n",
    "\n",
    "fig.show()"
   ]
  },
  {
   "cell_type": "code",
   "execution_count": 20,
   "metadata": {},
   "outputs": [
    {
     "data": {
      "application/vnd.plotly.v1+json": {
       "config": {
        "plotlyServerURL": "https://plot.ly"
       },
       "data": [
        {
         "alignmentgroup": "True",
         "hovertemplate": "구=%{x}<br>=%{y}<extra></extra>",
         "legendgroup": "",
         "marker": {
          "color": "#636efa",
          "pattern": {
           "shape": ""
          }
         },
         "name": "",
         "offsetgroup": "",
         "orientation": "v",
         "showlegend": false,
         "textposition": "auto",
         "type": "bar",
         "x": [
          "강동구",
          "강북구",
          "강서구",
          "관악구",
          "구로구",
          "금천구",
          "노원구",
          "도봉구",
          "동대문구",
          "동작구",
          "성북구",
          "종로구",
          "중구",
          "중랑구"
         ],
         "xaxis": "x",
         "y": [
          9.512639534883721,
          6.1194444444444445,
          6.885263157894737,
          6.506744186046512,
          6.434,
          5.8853333333333335,
          5.848986928104575,
          4.934126984126984,
          5.026966292134832,
          7.672222222222222,
          8.88250923076923,
          6.245882352941176,
          7.409558823529411,
          8.667
         ],
         "yaxis": "y"
        }
       ],
       "layout": {
        "barmode": "relative",
        "legend": {
         "tracegroupgap": 0
        },
        "template": {
         "data": {
          "bar": [
           {
            "error_x": {
             "color": "#2a3f5f"
            },
            "error_y": {
             "color": "#2a3f5f"
            },
            "marker": {
             "line": {
              "color": "#E5ECF6",
              "width": 0.5
             },
             "pattern": {
              "fillmode": "overlay",
              "size": 10,
              "solidity": 0.2
             }
            },
            "type": "bar"
           }
          ],
          "barpolar": [
           {
            "marker": {
             "line": {
              "color": "#E5ECF6",
              "width": 0.5
             },
             "pattern": {
              "fillmode": "overlay",
              "size": 10,
              "solidity": 0.2
             }
            },
            "type": "barpolar"
           }
          ],
          "carpet": [
           {
            "aaxis": {
             "endlinecolor": "#2a3f5f",
             "gridcolor": "white",
             "linecolor": "white",
             "minorgridcolor": "white",
             "startlinecolor": "#2a3f5f"
            },
            "baxis": {
             "endlinecolor": "#2a3f5f",
             "gridcolor": "white",
             "linecolor": "white",
             "minorgridcolor": "white",
             "startlinecolor": "#2a3f5f"
            },
            "type": "carpet"
           }
          ],
          "choropleth": [
           {
            "colorbar": {
             "outlinewidth": 0,
             "ticks": ""
            },
            "type": "choropleth"
           }
          ],
          "contour": [
           {
            "colorbar": {
             "outlinewidth": 0,
             "ticks": ""
            },
            "colorscale": [
             [
              0,
              "#0d0887"
             ],
             [
              0.1111111111111111,
              "#46039f"
             ],
             [
              0.2222222222222222,
              "#7201a8"
             ],
             [
              0.3333333333333333,
              "#9c179e"
             ],
             [
              0.4444444444444444,
              "#bd3786"
             ],
             [
              0.5555555555555556,
              "#d8576b"
             ],
             [
              0.6666666666666666,
              "#ed7953"
             ],
             [
              0.7777777777777778,
              "#fb9f3a"
             ],
             [
              0.8888888888888888,
              "#fdca26"
             ],
             [
              1,
              "#f0f921"
             ]
            ],
            "type": "contour"
           }
          ],
          "contourcarpet": [
           {
            "colorbar": {
             "outlinewidth": 0,
             "ticks": ""
            },
            "type": "contourcarpet"
           }
          ],
          "heatmap": [
           {
            "colorbar": {
             "outlinewidth": 0,
             "ticks": ""
            },
            "colorscale": [
             [
              0,
              "#0d0887"
             ],
             [
              0.1111111111111111,
              "#46039f"
             ],
             [
              0.2222222222222222,
              "#7201a8"
             ],
             [
              0.3333333333333333,
              "#9c179e"
             ],
             [
              0.4444444444444444,
              "#bd3786"
             ],
             [
              0.5555555555555556,
              "#d8576b"
             ],
             [
              0.6666666666666666,
              "#ed7953"
             ],
             [
              0.7777777777777778,
              "#fb9f3a"
             ],
             [
              0.8888888888888888,
              "#fdca26"
             ],
             [
              1,
              "#f0f921"
             ]
            ],
            "type": "heatmap"
           }
          ],
          "heatmapgl": [
           {
            "colorbar": {
             "outlinewidth": 0,
             "ticks": ""
            },
            "colorscale": [
             [
              0,
              "#0d0887"
             ],
             [
              0.1111111111111111,
              "#46039f"
             ],
             [
              0.2222222222222222,
              "#7201a8"
             ],
             [
              0.3333333333333333,
              "#9c179e"
             ],
             [
              0.4444444444444444,
              "#bd3786"
             ],
             [
              0.5555555555555556,
              "#d8576b"
             ],
             [
              0.6666666666666666,
              "#ed7953"
             ],
             [
              0.7777777777777778,
              "#fb9f3a"
             ],
             [
              0.8888888888888888,
              "#fdca26"
             ],
             [
              1,
              "#f0f921"
             ]
            ],
            "type": "heatmapgl"
           }
          ],
          "histogram": [
           {
            "marker": {
             "pattern": {
              "fillmode": "overlay",
              "size": 10,
              "solidity": 0.2
             }
            },
            "type": "histogram"
           }
          ],
          "histogram2d": [
           {
            "colorbar": {
             "outlinewidth": 0,
             "ticks": ""
            },
            "colorscale": [
             [
              0,
              "#0d0887"
             ],
             [
              0.1111111111111111,
              "#46039f"
             ],
             [
              0.2222222222222222,
              "#7201a8"
             ],
             [
              0.3333333333333333,
              "#9c179e"
             ],
             [
              0.4444444444444444,
              "#bd3786"
             ],
             [
              0.5555555555555556,
              "#d8576b"
             ],
             [
              0.6666666666666666,
              "#ed7953"
             ],
             [
              0.7777777777777778,
              "#fb9f3a"
             ],
             [
              0.8888888888888888,
              "#fdca26"
             ],
             [
              1,
              "#f0f921"
             ]
            ],
            "type": "histogram2d"
           }
          ],
          "histogram2dcontour": [
           {
            "colorbar": {
             "outlinewidth": 0,
             "ticks": ""
            },
            "colorscale": [
             [
              0,
              "#0d0887"
             ],
             [
              0.1111111111111111,
              "#46039f"
             ],
             [
              0.2222222222222222,
              "#7201a8"
             ],
             [
              0.3333333333333333,
              "#9c179e"
             ],
             [
              0.4444444444444444,
              "#bd3786"
             ],
             [
              0.5555555555555556,
              "#d8576b"
             ],
             [
              0.6666666666666666,
              "#ed7953"
             ],
             [
              0.7777777777777778,
              "#fb9f3a"
             ],
             [
              0.8888888888888888,
              "#fdca26"
             ],
             [
              1,
              "#f0f921"
             ]
            ],
            "type": "histogram2dcontour"
           }
          ],
          "mesh3d": [
           {
            "colorbar": {
             "outlinewidth": 0,
             "ticks": ""
            },
            "type": "mesh3d"
           }
          ],
          "parcoords": [
           {
            "line": {
             "colorbar": {
              "outlinewidth": 0,
              "ticks": ""
             }
            },
            "type": "parcoords"
           }
          ],
          "pie": [
           {
            "automargin": true,
            "type": "pie"
           }
          ],
          "scatter": [
           {
            "fillpattern": {
             "fillmode": "overlay",
             "size": 10,
             "solidity": 0.2
            },
            "type": "scatter"
           }
          ],
          "scatter3d": [
           {
            "line": {
             "colorbar": {
              "outlinewidth": 0,
              "ticks": ""
             }
            },
            "marker": {
             "colorbar": {
              "outlinewidth": 0,
              "ticks": ""
             }
            },
            "type": "scatter3d"
           }
          ],
          "scattercarpet": [
           {
            "marker": {
             "colorbar": {
              "outlinewidth": 0,
              "ticks": ""
             }
            },
            "type": "scattercarpet"
           }
          ],
          "scattergeo": [
           {
            "marker": {
             "colorbar": {
              "outlinewidth": 0,
              "ticks": ""
             }
            },
            "type": "scattergeo"
           }
          ],
          "scattergl": [
           {
            "marker": {
             "colorbar": {
              "outlinewidth": 0,
              "ticks": ""
             }
            },
            "type": "scattergl"
           }
          ],
          "scattermapbox": [
           {
            "marker": {
             "colorbar": {
              "outlinewidth": 0,
              "ticks": ""
             }
            },
            "type": "scattermapbox"
           }
          ],
          "scatterpolar": [
           {
            "marker": {
             "colorbar": {
              "outlinewidth": 0,
              "ticks": ""
             }
            },
            "type": "scatterpolar"
           }
          ],
          "scatterpolargl": [
           {
            "marker": {
             "colorbar": {
              "outlinewidth": 0,
              "ticks": ""
             }
            },
            "type": "scatterpolargl"
           }
          ],
          "scatterternary": [
           {
            "marker": {
             "colorbar": {
              "outlinewidth": 0,
              "ticks": ""
             }
            },
            "type": "scatterternary"
           }
          ],
          "surface": [
           {
            "colorbar": {
             "outlinewidth": 0,
             "ticks": ""
            },
            "colorscale": [
             [
              0,
              "#0d0887"
             ],
             [
              0.1111111111111111,
              "#46039f"
             ],
             [
              0.2222222222222222,
              "#7201a8"
             ],
             [
              0.3333333333333333,
              "#9c179e"
             ],
             [
              0.4444444444444444,
              "#bd3786"
             ],
             [
              0.5555555555555556,
              "#d8576b"
             ],
             [
              0.6666666666666666,
              "#ed7953"
             ],
             [
              0.7777777777777778,
              "#fb9f3a"
             ],
             [
              0.8888888888888888,
              "#fdca26"
             ],
             [
              1,
              "#f0f921"
             ]
            ],
            "type": "surface"
           }
          ],
          "table": [
           {
            "cells": {
             "fill": {
              "color": "#EBF0F8"
             },
             "line": {
              "color": "white"
             }
            },
            "header": {
             "fill": {
              "color": "#C8D4E3"
             },
             "line": {
              "color": "white"
             }
            },
            "type": "table"
           }
          ]
         },
         "layout": {
          "annotationdefaults": {
           "arrowcolor": "#2a3f5f",
           "arrowhead": 0,
           "arrowwidth": 1
          },
          "autotypenumbers": "strict",
          "coloraxis": {
           "colorbar": {
            "outlinewidth": 0,
            "ticks": ""
           }
          },
          "colorscale": {
           "diverging": [
            [
             0,
             "#8e0152"
            ],
            [
             0.1,
             "#c51b7d"
            ],
            [
             0.2,
             "#de77ae"
            ],
            [
             0.3,
             "#f1b6da"
            ],
            [
             0.4,
             "#fde0ef"
            ],
            [
             0.5,
             "#f7f7f7"
            ],
            [
             0.6,
             "#e6f5d0"
            ],
            [
             0.7,
             "#b8e186"
            ],
            [
             0.8,
             "#7fbc41"
            ],
            [
             0.9,
             "#4d9221"
            ],
            [
             1,
             "#276419"
            ]
           ],
           "sequential": [
            [
             0,
             "#0d0887"
            ],
            [
             0.1111111111111111,
             "#46039f"
            ],
            [
             0.2222222222222222,
             "#7201a8"
            ],
            [
             0.3333333333333333,
             "#9c179e"
            ],
            [
             0.4444444444444444,
             "#bd3786"
            ],
            [
             0.5555555555555556,
             "#d8576b"
            ],
            [
             0.6666666666666666,
             "#ed7953"
            ],
            [
             0.7777777777777778,
             "#fb9f3a"
            ],
            [
             0.8888888888888888,
             "#fdca26"
            ],
            [
             1,
             "#f0f921"
            ]
           ],
           "sequentialminus": [
            [
             0,
             "#0d0887"
            ],
            [
             0.1111111111111111,
             "#46039f"
            ],
            [
             0.2222222222222222,
             "#7201a8"
            ],
            [
             0.3333333333333333,
             "#9c179e"
            ],
            [
             0.4444444444444444,
             "#bd3786"
            ],
            [
             0.5555555555555556,
             "#d8576b"
            ],
            [
             0.6666666666666666,
             "#ed7953"
            ],
            [
             0.7777777777777778,
             "#fb9f3a"
            ],
            [
             0.8888888888888888,
             "#fdca26"
            ],
            [
             1,
             "#f0f921"
            ]
           ]
          },
          "colorway": [
           "#636efa",
           "#EF553B",
           "#00cc96",
           "#ab63fa",
           "#FFA15A",
           "#19d3f3",
           "#FF6692",
           "#B6E880",
           "#FF97FF",
           "#FECB52"
          ],
          "font": {
           "color": "#2a3f5f"
          },
          "geo": {
           "bgcolor": "white",
           "lakecolor": "white",
           "landcolor": "#E5ECF6",
           "showlakes": true,
           "showland": true,
           "subunitcolor": "white"
          },
          "hoverlabel": {
           "align": "left"
          },
          "hovermode": "closest",
          "mapbox": {
           "style": "light"
          },
          "paper_bgcolor": "white",
          "plot_bgcolor": "#E5ECF6",
          "polar": {
           "angularaxis": {
            "gridcolor": "white",
            "linecolor": "white",
            "ticks": ""
           },
           "bgcolor": "#E5ECF6",
           "radialaxis": {
            "gridcolor": "white",
            "linecolor": "white",
            "ticks": ""
           }
          },
          "scene": {
           "xaxis": {
            "backgroundcolor": "#E5ECF6",
            "gridcolor": "white",
            "gridwidth": 2,
            "linecolor": "white",
            "showbackground": true,
            "ticks": "",
            "zerolinecolor": "white"
           },
           "yaxis": {
            "backgroundcolor": "#E5ECF6",
            "gridcolor": "white",
            "gridwidth": 2,
            "linecolor": "white",
            "showbackground": true,
            "ticks": "",
            "zerolinecolor": "white"
           },
           "zaxis": {
            "backgroundcolor": "#E5ECF6",
            "gridcolor": "white",
            "gridwidth": 2,
            "linecolor": "white",
            "showbackground": true,
            "ticks": "",
            "zerolinecolor": "white"
           }
          },
          "shapedefaults": {
           "line": {
            "color": "#2a3f5f"
           }
          },
          "ternary": {
           "aaxis": {
            "gridcolor": "white",
            "linecolor": "white",
            "ticks": ""
           },
           "baxis": {
            "gridcolor": "white",
            "linecolor": "white",
            "ticks": ""
           },
           "bgcolor": "#E5ECF6",
           "caxis": {
            "gridcolor": "white",
            "linecolor": "white",
            "ticks": ""
           }
          },
          "title": {
           "x": 0.05
          },
          "xaxis": {
           "automargin": true,
           "gridcolor": "white",
           "linecolor": "white",
           "ticks": "",
           "title": {
            "standoff": 15
           },
           "zerolinecolor": "white",
           "zerolinewidth": 2
          },
          "yaxis": {
           "automargin": true,
           "gridcolor": "white",
           "linecolor": "white",
           "ticks": "",
           "title": {
            "standoff": 15
           },
           "zerolinecolor": "white",
           "zerolinewidth": 2
          }
         }
        },
        "title": {
         "text": "서울시 평균 이하 구 아파트 가격 (단위 : 억)"
        },
        "xaxis": {
         "anchor": "y",
         "domain": [
          0,
          1
         ],
         "title": {
          "text": "구"
         }
        },
        "yaxis": {
         "anchor": "x",
         "domain": [
          0,
          1
         ],
         "title": {
          "text": ""
         }
        }
       }
      }
     },
     "metadata": {},
     "output_type": "display_data"
    }
   ],
   "source": [
    "fig = px.bar(\n",
    "    x=below_average.index,\n",
    "    y=below_average.values/10000,\n",
    "    title='서울시 평균 이하 구 아파트 가격 (단위 : 억)',\n",
    "    labels={'x':'구', 'y':''},\n",
    ")\n",
    "\n",
    "fig.show()"
   ]
  },
  {
   "cell_type": "code",
   "execution_count": null,
   "metadata": {},
   "outputs": [],
   "source": []
  }
 ],
 "metadata": {
  "kernelspec": {
   "display_name": "Python 3",
   "language": "python",
   "name": "python3"
  },
  "language_info": {
   "codemirror_mode": {
    "name": "ipython",
    "version": 3
   },
   "file_extension": ".py",
   "mimetype": "text/x-python",
   "name": "python",
   "nbconvert_exporter": "python",
   "pygments_lexer": "ipython3",
   "version": "3.11.7"
  }
 },
 "nbformat": 4,
 "nbformat_minor": 2
}
